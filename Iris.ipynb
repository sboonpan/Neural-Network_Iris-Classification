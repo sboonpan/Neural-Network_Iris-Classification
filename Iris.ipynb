{
  "cells": [
    {
      "cell_type": "markdown",
      "metadata": {
        "id": "view-in-github",
        "colab_type": "text"
      },
      "source": [
        "<a href=\"https://colab.research.google.com/github/sboonpan/Neural-Network_Iris-Classification/blob/main/Iris.ipynb\" target=\"_parent\"><img src=\"https://colab.research.google.com/assets/colab-badge.svg\" alt=\"Open In Colab\"/></a>"
      ]
    },
    {
      "cell_type": "markdown",
      "id": "296a98f5-4a2d-495c-bd06-937342ab6845",
      "metadata": {
        "id": "296a98f5-4a2d-495c-bd06-937342ab6845"
      },
      "source": [
        "# **Data Preparation**"
      ]
    },
    {
      "cell_type": "markdown",
      "source": [
        "เริ่มต้นด้วยการอิมพอร์ตและโหลดข้อมูลดอก iris จากนั้นตรวจสอบข้อมูล"
      ],
      "metadata": {
        "id": "zpAg9CHvc6Gl"
      },
      "id": "zpAg9CHvc6Gl"
    },
    {
      "cell_type": "code",
      "execution_count": 37,
      "id": "500acb6a-f5d5-4da3-885e-b5d3766cd25c",
      "metadata": {
        "id": "500acb6a-f5d5-4da3-885e-b5d3766cd25c"
      },
      "outputs": [],
      "source": [
        "import pandas as pd\n",
        "import numpy as np\n",
        "import seaborn as sns\n",
        "import matplotlib.pyplot as plt\n",
        "\n"
      ]
    },
    {
      "cell_type": "markdown",
      "source": [
        "จะพบว่ามี 3 class ดังรูปด้านบน หรือเรียกว่ามี 3 label"
      ],
      "metadata": {
        "id": "iN_l-9rofN3k"
      },
      "id": "iN_l-9rofN3k"
    },
    {
      "cell_type": "code",
      "execution_count": 38,
      "id": "75900792-7c79-4a74-91ef-d5b9803e06b3",
      "metadata": {
        "colab": {
          "base_uri": "https://localhost:8080/",
          "height": 206
        },
        "id": "75900792-7c79-4a74-91ef-d5b9803e06b3",
        "outputId": "e86a84d4-fbbc-486d-b768-2d8cf1a896a6"
      },
      "outputs": [
        {
          "output_type": "execute_result",
          "data": {
            "text/html": [
              "\n",
              "  <div id=\"df-7be74215-447b-46c2-a877-f0a063c84554\">\n",
              "    <div class=\"colab-df-container\">\n",
              "      <div>\n",
              "<style scoped>\n",
              "    .dataframe tbody tr th:only-of-type {\n",
              "        vertical-align: middle;\n",
              "    }\n",
              "\n",
              "    .dataframe tbody tr th {\n",
              "        vertical-align: top;\n",
              "    }\n",
              "\n",
              "    .dataframe thead th {\n",
              "        text-align: right;\n",
              "    }\n",
              "</style>\n",
              "<table border=\"1\" class=\"dataframe\">\n",
              "  <thead>\n",
              "    <tr style=\"text-align: right;\">\n",
              "      <th></th>\n",
              "      <th>sepal_length</th>\n",
              "      <th>sepal_width</th>\n",
              "      <th>petal_length</th>\n",
              "      <th>petal_width</th>\n",
              "      <th>species</th>\n",
              "    </tr>\n",
              "  </thead>\n",
              "  <tbody>\n",
              "    <tr>\n",
              "      <th>14</th>\n",
              "      <td>5.8</td>\n",
              "      <td>4.0</td>\n",
              "      <td>1.2</td>\n",
              "      <td>0.2</td>\n",
              "      <td>setosa</td>\n",
              "    </tr>\n",
              "    <tr>\n",
              "      <th>98</th>\n",
              "      <td>5.1</td>\n",
              "      <td>2.5</td>\n",
              "      <td>3.0</td>\n",
              "      <td>1.1</td>\n",
              "      <td>versicolor</td>\n",
              "    </tr>\n",
              "    <tr>\n",
              "      <th>75</th>\n",
              "      <td>6.6</td>\n",
              "      <td>3.0</td>\n",
              "      <td>4.4</td>\n",
              "      <td>1.4</td>\n",
              "      <td>versicolor</td>\n",
              "    </tr>\n",
              "    <tr>\n",
              "      <th>16</th>\n",
              "      <td>5.4</td>\n",
              "      <td>3.9</td>\n",
              "      <td>1.3</td>\n",
              "      <td>0.4</td>\n",
              "      <td>setosa</td>\n",
              "    </tr>\n",
              "    <tr>\n",
              "      <th>131</th>\n",
              "      <td>7.9</td>\n",
              "      <td>3.8</td>\n",
              "      <td>6.4</td>\n",
              "      <td>2.0</td>\n",
              "      <td>virginica</td>\n",
              "    </tr>\n",
              "  </tbody>\n",
              "</table>\n",
              "</div>\n",
              "      <button class=\"colab-df-convert\" onclick=\"convertToInteractive('df-7be74215-447b-46c2-a877-f0a063c84554')\"\n",
              "              title=\"Convert this dataframe to an interactive table.\"\n",
              "              style=\"display:none;\">\n",
              "        \n",
              "  <svg xmlns=\"http://www.w3.org/2000/svg\" height=\"24px\"viewBox=\"0 0 24 24\"\n",
              "       width=\"24px\">\n",
              "    <path d=\"M0 0h24v24H0V0z\" fill=\"none\"/>\n",
              "    <path d=\"M18.56 5.44l.94 2.06.94-2.06 2.06-.94-2.06-.94-.94-2.06-.94 2.06-2.06.94zm-11 1L8.5 8.5l.94-2.06 2.06-.94-2.06-.94L8.5 2.5l-.94 2.06-2.06.94zm10 10l.94 2.06.94-2.06 2.06-.94-2.06-.94-.94-2.06-.94 2.06-2.06.94z\"/><path d=\"M17.41 7.96l-1.37-1.37c-.4-.4-.92-.59-1.43-.59-.52 0-1.04.2-1.43.59L10.3 9.45l-7.72 7.72c-.78.78-.78 2.05 0 2.83L4 21.41c.39.39.9.59 1.41.59.51 0 1.02-.2 1.41-.59l7.78-7.78 2.81-2.81c.8-.78.8-2.07 0-2.86zM5.41 20L4 18.59l7.72-7.72 1.47 1.35L5.41 20z\"/>\n",
              "  </svg>\n",
              "      </button>\n",
              "      \n",
              "  <style>\n",
              "    .colab-df-container {\n",
              "      display:flex;\n",
              "      flex-wrap:wrap;\n",
              "      gap: 12px;\n",
              "    }\n",
              "\n",
              "    .colab-df-convert {\n",
              "      background-color: #E8F0FE;\n",
              "      border: none;\n",
              "      border-radius: 50%;\n",
              "      cursor: pointer;\n",
              "      display: none;\n",
              "      fill: #1967D2;\n",
              "      height: 32px;\n",
              "      padding: 0 0 0 0;\n",
              "      width: 32px;\n",
              "    }\n",
              "\n",
              "    .colab-df-convert:hover {\n",
              "      background-color: #E2EBFA;\n",
              "      box-shadow: 0px 1px 2px rgba(60, 64, 67, 0.3), 0px 1px 3px 1px rgba(60, 64, 67, 0.15);\n",
              "      fill: #174EA6;\n",
              "    }\n",
              "\n",
              "    [theme=dark] .colab-df-convert {\n",
              "      background-color: #3B4455;\n",
              "      fill: #D2E3FC;\n",
              "    }\n",
              "\n",
              "    [theme=dark] .colab-df-convert:hover {\n",
              "      background-color: #434B5C;\n",
              "      box-shadow: 0px 1px 3px 1px rgba(0, 0, 0, 0.15);\n",
              "      filter: drop-shadow(0px 1px 2px rgba(0, 0, 0, 0.3));\n",
              "      fill: #FFFFFF;\n",
              "    }\n",
              "  </style>\n",
              "\n",
              "      <script>\n",
              "        const buttonEl =\n",
              "          document.querySelector('#df-7be74215-447b-46c2-a877-f0a063c84554 button.colab-df-convert');\n",
              "        buttonEl.style.display =\n",
              "          google.colab.kernel.accessAllowed ? 'block' : 'none';\n",
              "\n",
              "        async function convertToInteractive(key) {\n",
              "          const element = document.querySelector('#df-7be74215-447b-46c2-a877-f0a063c84554');\n",
              "          const dataTable =\n",
              "            await google.colab.kernel.invokeFunction('convertToInteractive',\n",
              "                                                     [key], {});\n",
              "          if (!dataTable) return;\n",
              "\n",
              "          const docLinkHtml = 'Like what you see? Visit the ' +\n",
              "            '<a target=\"_blank\" href=https://colab.research.google.com/notebooks/data_table.ipynb>data table notebook</a>'\n",
              "            + ' to learn more about interactive tables.';\n",
              "          element.innerHTML = '';\n",
              "          dataTable['output_type'] = 'display_data';\n",
              "          await google.colab.output.renderOutput(dataTable, element);\n",
              "          const docLink = document.createElement('div');\n",
              "          docLink.innerHTML = docLinkHtml;\n",
              "          element.appendChild(docLink);\n",
              "        }\n",
              "      </script>\n",
              "    </div>\n",
              "  </div>\n",
              "  "
            ],
            "text/plain": [
              "     sepal_length  sepal_width  petal_length  petal_width     species\n",
              "14            5.8          4.0           1.2          0.2      setosa\n",
              "98            5.1          2.5           3.0          1.1  versicolor\n",
              "75            6.6          3.0           4.4          1.4  versicolor\n",
              "16            5.4          3.9           1.3          0.4      setosa\n",
              "131           7.9          3.8           6.4          2.0   virginica"
            ]
          },
          "metadata": {},
          "execution_count": 38
        }
      ],
      "source": [
        "df = sns.load_dataset('iris')\n",
        "# df.head()\n",
        "df.sample(5, random_state=1)"
      ]
    },
    {
      "cell_type": "markdown",
      "source": [
        "ตรวจสอบให้แน่ใจว่าไม่มี NaN (งาน NN จะต้องไม่มี Missing data) ถ้ามี ข้อมูลสูญหายจะต้องจัดการกับข้อมูลสูญหายก่อนจึงจะทำในขั้นตอนต่อไปได้"
      ],
      "metadata": {
        "id": "UyEMAcddfgtB"
      },
      "id": "UyEMAcddfgtB"
    },
    {
      "cell_type": "code",
      "execution_count": 3,
      "id": "b7e796df-4f71-4bf8-8d4a-fd5ebf0e5f43",
      "metadata": {
        "colab": {
          "base_uri": "https://localhost:8080/"
        },
        "id": "b7e796df-4f71-4bf8-8d4a-fd5ebf0e5f43",
        "outputId": "043b1323-0d07-4c00-d73b-8e52f8a2cbad"
      },
      "outputs": [
        {
          "output_type": "execute_result",
          "data": {
            "text/plain": [
              "sepal_length    0\n",
              "sepal_width     0\n",
              "petal_length    0\n",
              "petal_width     0\n",
              "species         0\n",
              "dtype: int64"
            ]
          },
          "metadata": {},
          "execution_count": 3
        }
      ],
      "source": [
        "df.isnull().sum()"
      ]
    },
    {
      "cell_type": "markdown",
      "source": [
        "ใช้ scatterplot ดูการกระจายของข้อมูล"
      ],
      "metadata": {
        "id": "IEPfVN0hghjX"
      },
      "id": "IEPfVN0hghjX"
    },
    {
      "cell_type": "code",
      "execution_count": 4,
      "id": "3bbd3804-2efb-4961-8b3b-80caf0a35742",
      "metadata": {
        "colab": {
          "base_uri": "https://localhost:8080/",
          "height": 280
        },
        "id": "3bbd3804-2efb-4961-8b3b-80caf0a35742",
        "outputId": "6030294d-8dc4-4ddc-99f9-588d5cf41b0b"
      },
      "outputs": [
        {
          "output_type": "display_data",
          "data": {
            "image/png": "[encoded data removed]",
            "text/plain": [
              "<Figure size 432x288 with 1 Axes>"
            ]
          },
          "metadata": {
            "needs_background": "light"
          }
        }
      ],
      "source": [
        "sns.scatterplot(x='petal_length', y='petal_width', data=df, hue='species', style='species', \n",
        "                alpha=0.85, edgecolor='w', s=100)\n",
        "plt.show()"
      ]
    },
    {
      "cell_type": "markdown",
      "source": [
        "การเข้ารหัสคลาส species ให้เป็นค่าตัวเลขทำได้ 2 วิธี จะใช้ pandas factorize หรือ numpy ก็ได้(เลือกอย่างใดอย่างหนึ่ง)"
      ],
      "metadata": {
        "id": "Ix4AP8MI15-j"
      },
      "id": "Ix4AP8MI15-j"
    },
    {
      "cell_type": "code",
      "execution_count": 39,
      "id": "ddc27e54-500e-4e48-8218-c862094ab266",
      "metadata": {
        "colab": {
          "base_uri": "https://localhost:8080/"
        },
        "id": "ddc27e54-500e-4e48-8218-c862094ab266",
        "outputId": "7cae2a0f-66a4-430d-c3ad-43df62c6ad80"
      },
      "outputs": [
        {
          "output_type": "execute_result",
          "data": {
            "text/plain": [
              "(Index(['setosa', 'versicolor', 'virginica'], dtype='object'),\n",
              " array([0, 0, 0, 0, 0, 1, 1, 1, 1, 1, 1, 1, 1, 1, 1, 1, 1, 1, 1, 1, 1, 1,\n",
              "        1, 1, 1, 1, 1, 1, 1, 1, 1, 1, 1, 1, 1, 1, 1, 1, 1, 1, 1, 1, 1, 1,\n",
              "        1, 1, 1, 1, 1, 1, 1, 1, 1, 1, 1, 2, 2, 2, 2, 2]))"
            ]
          },
          "metadata": {},
          "execution_count": 39
        }
      ],
      "source": [
        "y, class_names = pd.factorize(df.species, sort=True) \n",
        "# print(pd.unique(y))\n",
        "\n",
        "class_names, y[45:105]"
      ]
    },
    {
      "cell_type": "code",
      "execution_count": 40,
      "id": "ac913cbd-f586-4b3a-9e26-253d5ba95219",
      "metadata": {
        "colab": {
          "base_uri": "https://localhost:8080/"
        },
        "id": "ac913cbd-f586-4b3a-9e26-253d5ba95219",
        "outputId": "8b205555-2d5f-4675-f93a-1f5384d533a2"
      },
      "outputs": [
        {
          "output_type": "execute_result",
          "data": {
            "text/plain": [
              "(array(['setosa', 'versicolor', 'virginica'], dtype=object),\n",
              " array([0, 0, 0, 0, 0, 1, 1, 1, 1, 1, 1, 1, 1, 1, 1, 1, 1, 1, 1, 1, 1, 1,\n",
              "        1, 1, 1, 1, 1, 1, 1, 1, 1, 1, 1, 1, 1, 1, 1, 1, 1, 1, 1, 1, 1, 1,\n",
              "        1, 1, 1, 1, 1, 1, 1, 1, 1, 1, 1, 2, 2, 2, 2, 2]))"
            ]
          },
          "metadata": {},
          "execution_count": 40
        }
      ],
      "source": [
        "class_names, y = np.unique(df.species, return_inverse=True)\n",
        "class_names, y[45:105]"
      ]
    },
    {
      "cell_type": "markdown",
      "source": [
        "จะได้ตัวแปรที่ชื่อ class_names เก็บชื่อ และตัวแปร y เก็บค่าที่เข้ารหัสแล้ว เช่น เดิม y เป็น setosa ก็จะเปลี่ยนเป็น 0 คลาส versicolor ก็เปลี่ยนเป็น 1"
      ],
      "metadata": {
        "id": "aQOvMCi52Whm"
      },
      "id": "aQOvMCi52Whm"
    },
    {
      "cell_type": "markdown",
      "source": [
        "สร้างอินพุต Feature โดยตัดคอลัมน์ species ออกไป"
      ],
      "metadata": {
        "id": "Ij1f9zPS21t7"
      },
      "id": "Ij1f9zPS21t7"
    },
    {
      "cell_type": "code",
      "source": [
        "X = df.drop('species', axis = 1)\n",
        "X.sample(6, random_state = 1)"
      ],
      "metadata": {
        "colab": {
          "base_uri": "https://localhost:8080/",
          "height": 237
        },
        "id": "oAkmKkDs3F-h",
        "outputId": "b7aad4ca-54b0-48df-9706-a21d7c2ca1ee"
      },
      "id": "oAkmKkDs3F-h",
      "execution_count": 42,
      "outputs": [
        {
          "output_type": "execute_result",
          "data": {
            "text/html": [
              "\n",
              "  <div id=\"df-2008fd65-251c-4595-b9c7-4e35a9eeecef\">\n",
              "    <div class=\"colab-df-container\">\n",
              "      <div>\n",
              "<style scoped>\n",
              "    .dataframe tbody tr th:only-of-type {\n",
              "        vertical-align: middle;\n",
              "    }\n",
              "\n",
              "    .dataframe tbody tr th {\n",
              "        vertical-align: top;\n",
              "    }\n",
              "\n",
              "    .dataframe thead th {\n",
              "        text-align: right;\n",
              "    }\n",
              "</style>\n",
              "<table border=\"1\" class=\"dataframe\">\n",
              "  <thead>\n",
              "    <tr style=\"text-align: right;\">\n",
              "      <th></th>\n",
              "      <th>sepal_length</th>\n",
              "      <th>sepal_width</th>\n",
              "      <th>petal_length</th>\n",
              "      <th>petal_width</th>\n",
              "    </tr>\n",
              "  </thead>\n",
              "  <tbody>\n",
              "    <tr>\n",
              "      <th>14</th>\n",
              "      <td>5.8</td>\n",
              "      <td>4.0</td>\n",
              "      <td>1.2</td>\n",
              "      <td>0.2</td>\n",
              "    </tr>\n",
              "    <tr>\n",
              "      <th>98</th>\n",
              "      <td>5.1</td>\n",
              "      <td>2.5</td>\n",
              "      <td>3.0</td>\n",
              "      <td>1.1</td>\n",
              "    </tr>\n",
              "    <tr>\n",
              "      <th>75</th>\n",
              "      <td>6.6</td>\n",
              "      <td>3.0</td>\n",
              "      <td>4.4</td>\n",
              "      <td>1.4</td>\n",
              "    </tr>\n",
              "    <tr>\n",
              "      <th>16</th>\n",
              "      <td>5.4</td>\n",
              "      <td>3.9</td>\n",
              "      <td>1.3</td>\n",
              "      <td>0.4</td>\n",
              "    </tr>\n",
              "    <tr>\n",
              "      <th>131</th>\n",
              "      <td>7.9</td>\n",
              "      <td>3.8</td>\n",
              "      <td>6.4</td>\n",
              "      <td>2.0</td>\n",
              "    </tr>\n",
              "    <tr>\n",
              "      <th>56</th>\n",
              "      <td>6.3</td>\n",
              "      <td>3.3</td>\n",
              "      <td>4.7</td>\n",
              "      <td>1.6</td>\n",
              "    </tr>\n",
              "  </tbody>\n",
              "</table>\n",
              "</div>\n",
              "      <button class=\"colab-df-convert\" onclick=\"convertToInteractive('df-2008fd65-251c-4595-b9c7-4e35a9eeecef')\"\n",
              "              title=\"Convert this dataframe to an interactive table.\"\n",
              "              style=\"display:none;\">\n",
              "        \n",
              "  <svg xmlns=\"http://www.w3.org/2000/svg\" height=\"24px\"viewBox=\"0 0 24 24\"\n",
              "       width=\"24px\">\n",
              "    <path d=\"M0 0h24v24H0V0z\" fill=\"none\"/>\n",
              "    <path d=\"M18.56 5.44l.94 2.06.94-2.06 2.06-.94-2.06-.94-.94-2.06-.94 2.06-2.06.94zm-11 1L8.5 8.5l.94-2.06 2.06-.94-2.06-.94L8.5 2.5l-.94 2.06-2.06.94zm10 10l.94 2.06.94-2.06 2.06-.94-2.06-.94-.94-2.06-.94 2.06-2.06.94z\"/><path d=\"M17.41 7.96l-1.37-1.37c-.4-.4-.92-.59-1.43-.59-.52 0-1.04.2-1.43.59L10.3 9.45l-7.72 7.72c-.78.78-.78 2.05 0 2.83L4 21.41c.39.39.9.59 1.41.59.51 0 1.02-.2 1.41-.59l7.78-7.78 2.81-2.81c.8-.78.8-2.07 0-2.86zM5.41 20L4 18.59l7.72-7.72 1.47 1.35L5.41 20z\"/>\n",
              "  </svg>\n",
              "      </button>\n",
              "      \n",
              "  <style>\n",
              "    .colab-df-container {\n",
              "      display:flex;\n",
              "      flex-wrap:wrap;\n",
              "      gap: 12px;\n",
              "    }\n",
              "\n",
              "    .colab-df-convert {\n",
              "      background-color: #E8F0FE;\n",
              "      border: none;\n",
              "      border-radius: 50%;\n",
              "      cursor: pointer;\n",
              "      display: none;\n",
              "      fill: #1967D2;\n",
              "      height: 32px;\n",
              "      padding: 0 0 0 0;\n",
              "      width: 32px;\n",
              "    }\n",
              "\n",
              "    .colab-df-convert:hover {\n",
              "      background-color: #E2EBFA;\n",
              "      box-shadow: 0px 1px 2px rgba(60, 64, 67, 0.3), 0px 1px 3px 1px rgba(60, 64, 67, 0.15);\n",
              "      fill: #174EA6;\n",
              "    }\n",
              "\n",
              "    [theme=dark] .colab-df-convert {\n",
              "      background-color: #3B4455;\n",
              "      fill: #D2E3FC;\n",
              "    }\n",
              "\n",
              "    [theme=dark] .colab-df-convert:hover {\n",
              "      background-color: #434B5C;\n",
              "      box-shadow: 0px 1px 3px 1px rgba(0, 0, 0, 0.15);\n",
              "      filter: drop-shadow(0px 1px 2px rgba(0, 0, 0, 0.3));\n",
              "      fill: #FFFFFF;\n",
              "    }\n",
              "  </style>\n",
              "\n",
              "      <script>\n",
              "        const buttonEl =\n",
              "          document.querySelector('#df-2008fd65-251c-4595-b9c7-4e35a9eeecef button.colab-df-convert');\n",
              "        buttonEl.style.display =\n",
              "          google.colab.kernel.accessAllowed ? 'block' : 'none';\n",
              "\n",
              "        async function convertToInteractive(key) {\n",
              "          const element = document.querySelector('#df-2008fd65-251c-4595-b9c7-4e35a9eeecef');\n",
              "          const dataTable =\n",
              "            await google.colab.kernel.invokeFunction('convertToInteractive',\n",
              "                                                     [key], {});\n",
              "          if (!dataTable) return;\n",
              "\n",
              "          const docLinkHtml = 'Like what you see? Visit the ' +\n",
              "            '<a target=\"_blank\" href=https://colab.research.google.com/notebooks/data_table.ipynb>data table notebook</a>'\n",
              "            + ' to learn more about interactive tables.';\n",
              "          element.innerHTML = '';\n",
              "          dataTable['output_type'] = 'display_data';\n",
              "          await google.colab.output.renderOutput(dataTable, element);\n",
              "          const docLink = document.createElement('div');\n",
              "          docLink.innerHTML = docLinkHtml;\n",
              "          element.appendChild(docLink);\n",
              "        }\n",
              "      </script>\n",
              "    </div>\n",
              "  </div>\n",
              "  "
            ],
            "text/plain": [
              "     sepal_length  sepal_width  petal_length  petal_width\n",
              "14            5.8          4.0           1.2          0.2\n",
              "98            5.1          2.5           3.0          1.1\n",
              "75            6.6          3.0           4.4          1.4\n",
              "16            5.4          3.9           1.3          0.4\n",
              "131           7.9          3.8           6.4          2.0\n",
              "56            6.3          3.3           4.7          1.6"
            ]
          },
          "metadata": {},
          "execution_count": 42
        }
      ]
    },
    {
      "cell_type": "markdown",
      "source": [
        "## ปรับค่าข้อมูลเป็น Standard scale"
      ],
      "metadata": {
        "id": "wl8o3KyI3mDs"
      },
      "id": "wl8o3KyI3mDs"
    },
    {
      "cell_type": "code",
      "source": [
        "from sklearn.preprocessing import StandardScaler\n",
        "\n",
        "sc = StandardScaler()\n",
        "X_sc = sc.fit_transform(X)\n",
        "X_sc[ :5]"
      ],
      "metadata": {
        "colab": {
          "base_uri": "https://localhost:8080/"
        },
        "id": "0_tcfq8a30ir",
        "outputId": "955da2f6-bf9e-4b7e-a496-16f8c677a912"
      },
      "id": "0_tcfq8a30ir",
      "execution_count": 44,
      "outputs": [
        {
          "output_type": "execute_result",
          "data": {
            "text/plain": [
              "array([[-0.90068117,  1.01900435, -1.34022653, -1.3154443 ],\n",
              "       [-1.14301691, -0.13197948, -1.34022653, -1.3154443 ],\n",
              "       [-1.38535265,  0.32841405, -1.39706395, -1.3154443 ],\n",
              "       [-1.50652052,  0.09821729, -1.2833891 , -1.3154443 ],\n",
              "       [-1.02184904,  1.24920112, -1.34022653, -1.3154443 ]])"
            ]
          },
          "metadata": {},
          "execution_count": 44
        }
      ]
    },
    {
      "cell_type": "markdown",
      "source": [
        "ทำการแบ่งเป็น Train และ Test (ใช้สัดส่วน Test 25%) แล้วตรวจสอบมิติของข้อมูล"
      ],
      "metadata": {
        "id": "YmFSIxzc4xI8"
      },
      "id": "YmFSIxzc4xI8"
    },
    {
      "cell_type": "code",
      "execution_count": 45,
      "id": "a95f03c2-5261-4121-9658-7d1e06a893a3",
      "metadata": {
        "colab": {
          "base_uri": "https://localhost:8080/"
        },
        "id": "a95f03c2-5261-4121-9658-7d1e06a893a3",
        "outputId": "3009b040-82f1-49c5-c5bc-847774990a9c"
      },
      "outputs": [
        {
          "output_type": "execute_result",
          "data": {
            "text/plain": [
              "((112, 4), (38, 4))"
            ]
          },
          "metadata": {},
          "execution_count": 45
        }
      ],
      "source": [
        "from sklearn.model_selection import train_test_split\n",
        "\n",
        "X_train, X_test, y_train, y_test = train_test_split(X_sc, y, test_size=0.25, random_state=1) #\n",
        "\n",
        "X_train.shape, X_test.shape"
      ]
    },
    {
      "cell_type": "code",
      "execution_count": 46,
      "id": "8330f139-90c7-49f1-96cf-8b47c8f4cfa1",
      "metadata": {
        "colab": {
          "base_uri": "https://localhost:8080/"
        },
        "id": "8330f139-90c7-49f1-96cf-8b47c8f4cfa1",
        "outputId": "b5692894-0688-44b6-c211-d9bad2bbd296"
      },
      "outputs": [
        {
          "output_type": "execute_result",
          "data": {
            "text/plain": [
              "((112,), (38,))"
            ]
          },
          "metadata": {},
          "execution_count": 46
        }
      ],
      "source": [
        "y_train.shape, y_test.shape "
      ]
    },
    {
      "cell_type": "code",
      "execution_count": 11,
      "id": "3ae2dcbe-19e0-4b03-894d-e6bd3c72a1e6",
      "metadata": {
        "colab": {
          "base_uri": "https://localhost:8080/"
        },
        "id": "3ae2dcbe-19e0-4b03-894d-e6bd3c72a1e6",
        "outputId": "0253c54f-c694-4ea3-be57-f8aab51de8eb"
      },
      "outputs": [
        {
          "output_type": "execute_result",
          "data": {
            "text/plain": [
              "array([1, 2, 2, 0, 2])"
            ]
          },
          "metadata": {},
          "execution_count": 11
        }
      ],
      "source": [
        "y_train[:5]"
      ]
    },
    {
      "cell_type": "markdown",
      "source": [
        "## การเข้ารหัสของคลาส หรือ label ให้มีลักษณะเป็นค่าเลขฐานสอง(binary) เพื่อให้แต่ละ node ของ NN รับผิดชอบหรือเอาต์พุตค่าของแต่ละคลาส "
      ],
      "metadata": {
        "id": "xhomu8wy6DvD"
      },
      "id": "xhomu8wy6DvD"
    },
    {
      "cell_type": "code",
      "execution_count": 12,
      "id": "91cdf84a-3b72-419d-a68b-7c5b36248a33",
      "metadata": {
        "colab": {
          "base_uri": "https://localhost:8080/"
        },
        "id": "91cdf84a-3b72-419d-a68b-7c5b36248a33",
        "outputId": "d19cf1b0-8e9a-4b21-865e-188194aa9762"
      },
      "outputs": [
        {
          "output_type": "execute_result",
          "data": {
            "text/plain": [
              "array([[1, 0, 0],\n",
              "       [0, 1, 0],\n",
              "       [0, 1, 0],\n",
              "       [1, 0, 0]])"
            ]
          },
          "metadata": {},
          "execution_count": 12
        }
      ],
      "source": [
        "from tensorflow.keras.utils import to_categorical\n",
        "\n",
        "def one_hot_encode(arr):\n",
        "    categories, ids = np.unique(arr, return_inverse=True)\n",
        "    return to_categorical(ids, len(categories))\n",
        "\n",
        "y_train_1h = one_hot_encode(y_train).astype('int')\n",
        "y_test_1h = one_hot_encode(y_test).astype('int')\n",
        "\n",
        "y_test_1h[:4]"
      ]
    },
    {
      "cell_type": "markdown",
      "source": [
        "หรือจะใช้ pandas ก็ได้\n"
      ],
      "metadata": {
        "id": "-kN9slDw7SOq"
      },
      "id": "-kN9slDw7SOq"
    },
    {
      "cell_type": "code",
      "execution_count": 47,
      "id": "9372a800-45cf-4c0a-b035-6e80737ac1cb",
      "metadata": {
        "colab": {
          "base_uri": "https://localhost:8080/",
          "height": 206
        },
        "id": "9372a800-45cf-4c0a-b035-6e80737ac1cb",
        "outputId": "cd524641-6b8e-4af4-860d-f2e34a7eb7dc"
      },
      "outputs": [
        {
          "output_type": "execute_result",
          "data": {
            "text/html": [
              "\n",
              "  <div id=\"df-1c3e2d11-1740-499a-930a-ff5f43c2b19b\">\n",
              "    <div class=\"colab-df-container\">\n",
              "      <div>\n",
              "<style scoped>\n",
              "    .dataframe tbody tr th:only-of-type {\n",
              "        vertical-align: middle;\n",
              "    }\n",
              "\n",
              "    .dataframe tbody tr th {\n",
              "        vertical-align: top;\n",
              "    }\n",
              "\n",
              "    .dataframe thead th {\n",
              "        text-align: right;\n",
              "    }\n",
              "</style>\n",
              "<table border=\"1\" class=\"dataframe\">\n",
              "  <thead>\n",
              "    <tr style=\"text-align: right;\">\n",
              "      <th></th>\n",
              "      <th>0</th>\n",
              "      <th>1</th>\n",
              "      <th>2</th>\n",
              "    </tr>\n",
              "  </thead>\n",
              "  <tbody>\n",
              "    <tr>\n",
              "      <th>0</th>\n",
              "      <td>1</td>\n",
              "      <td>0</td>\n",
              "      <td>0</td>\n",
              "    </tr>\n",
              "    <tr>\n",
              "      <th>1</th>\n",
              "      <td>0</td>\n",
              "      <td>1</td>\n",
              "      <td>0</td>\n",
              "    </tr>\n",
              "    <tr>\n",
              "      <th>2</th>\n",
              "      <td>0</td>\n",
              "      <td>1</td>\n",
              "      <td>0</td>\n",
              "    </tr>\n",
              "    <tr>\n",
              "      <th>3</th>\n",
              "      <td>1</td>\n",
              "      <td>0</td>\n",
              "      <td>0</td>\n",
              "    </tr>\n",
              "    <tr>\n",
              "      <th>4</th>\n",
              "      <td>0</td>\n",
              "      <td>0</td>\n",
              "      <td>1</td>\n",
              "    </tr>\n",
              "  </tbody>\n",
              "</table>\n",
              "</div>\n",
              "      <button class=\"colab-df-convert\" onclick=\"convertToInteractive('df-1c3e2d11-1740-499a-930a-ff5f43c2b19b')\"\n",
              "              title=\"Convert this dataframe to an interactive table.\"\n",
              "              style=\"display:none;\">\n",
              "        \n",
              "  <svg xmlns=\"http://www.w3.org/2000/svg\" height=\"24px\"viewBox=\"0 0 24 24\"\n",
              "       width=\"24px\">\n",
              "    <path d=\"M0 0h24v24H0V0z\" fill=\"none\"/>\n",
              "    <path d=\"M18.56 5.44l.94 2.06.94-2.06 2.06-.94-2.06-.94-.94-2.06-.94 2.06-2.06.94zm-11 1L8.5 8.5l.94-2.06 2.06-.94-2.06-.94L8.5 2.5l-.94 2.06-2.06.94zm10 10l.94 2.06.94-2.06 2.06-.94-2.06-.94-.94-2.06-.94 2.06-2.06.94z\"/><path d=\"M17.41 7.96l-1.37-1.37c-.4-.4-.92-.59-1.43-.59-.52 0-1.04.2-1.43.59L10.3 9.45l-7.72 7.72c-.78.78-.78 2.05 0 2.83L4 21.41c.39.39.9.59 1.41.59.51 0 1.02-.2 1.41-.59l7.78-7.78 2.81-2.81c.8-.78.8-2.07 0-2.86zM5.41 20L4 18.59l7.72-7.72 1.47 1.35L5.41 20z\"/>\n",
              "  </svg>\n",
              "      </button>\n",
              "      \n",
              "  <style>\n",
              "    .colab-df-container {\n",
              "      display:flex;\n",
              "      flex-wrap:wrap;\n",
              "      gap: 12px;\n",
              "    }\n",
              "\n",
              "    .colab-df-convert {\n",
              "      background-color: #E8F0FE;\n",
              "      border: none;\n",
              "      border-radius: 50%;\n",
              "      cursor: pointer;\n",
              "      display: none;\n",
              "      fill: #1967D2;\n",
              "      height: 32px;\n",
              "      padding: 0 0 0 0;\n",
              "      width: 32px;\n",
              "    }\n",
              "\n",
              "    .colab-df-convert:hover {\n",
              "      background-color: #E2EBFA;\n",
              "      box-shadow: 0px 1px 2px rgba(60, 64, 67, 0.3), 0px 1px 3px 1px rgba(60, 64, 67, 0.15);\n",
              "      fill: #174EA6;\n",
              "    }\n",
              "\n",
              "    [theme=dark] .colab-df-convert {\n",
              "      background-color: #3B4455;\n",
              "      fill: #D2E3FC;\n",
              "    }\n",
              "\n",
              "    [theme=dark] .colab-df-convert:hover {\n",
              "      background-color: #434B5C;\n",
              "      box-shadow: 0px 1px 3px 1px rgba(0, 0, 0, 0.15);\n",
              "      filter: drop-shadow(0px 1px 2px rgba(0, 0, 0, 0.3));\n",
              "      fill: #FFFFFF;\n",
              "    }\n",
              "  </style>\n",
              "\n",
              "      <script>\n",
              "        const buttonEl =\n",
              "          document.querySelector('#df-1c3e2d11-1740-499a-930a-ff5f43c2b19b button.colab-df-convert');\n",
              "        buttonEl.style.display =\n",
              "          google.colab.kernel.accessAllowed ? 'block' : 'none';\n",
              "\n",
              "        async function convertToInteractive(key) {\n",
              "          const element = document.querySelector('#df-1c3e2d11-1740-499a-930a-ff5f43c2b19b');\n",
              "          const dataTable =\n",
              "            await google.colab.kernel.invokeFunction('convertToInteractive',\n",
              "                                                     [key], {});\n",
              "          if (!dataTable) return;\n",
              "\n",
              "          const docLinkHtml = 'Like what you see? Visit the ' +\n",
              "            '<a target=\"_blank\" href=https://colab.research.google.com/notebooks/data_table.ipynb>data table notebook</a>'\n",
              "            + ' to learn more about interactive tables.';\n",
              "          element.innerHTML = '';\n",
              "          dataTable['output_type'] = 'display_data';\n",
              "          await google.colab.output.renderOutput(dataTable, element);\n",
              "          const docLink = document.createElement('div');\n",
              "          docLink.innerHTML = docLinkHtml;\n",
              "          element.appendChild(docLink);\n",
              "        }\n",
              "      </script>\n",
              "    </div>\n",
              "  </div>\n",
              "  "
            ],
            "text/plain": [
              "   0  1  2\n",
              "0  1  0  0\n",
              "1  0  1  0\n",
              "2  0  1  0\n",
              "3  1  0  0\n",
              "4  0  0  1"
            ]
          },
          "metadata": {},
          "execution_count": 47
        }
      ],
      "source": [
        "y_train_1h = pd.get_dummies(y_train)\n",
        "y_test_1h = pd.get_dummies(y_test)\n",
        "y_test_1h.head()"
      ]
    },
    {
      "cell_type": "code",
      "execution_count": 14,
      "id": "97845b4f-708e-4c49-8a86-ccc73c35dd7f",
      "metadata": {
        "colab": {
          "base_uri": "https://localhost:8080/",
          "height": 206
        },
        "id": "97845b4f-708e-4c49-8a86-ccc73c35dd7f",
        "outputId": "97c4e511-3c57-448d-b1c7-3ca8724ad991"
      },
      "outputs": [
        {
          "output_type": "execute_result",
          "data": {
            "text/html": [
              "\n",
              "  <div id=\"df-e4afb227-56d1-42f6-9ce7-893cdbe2e359\">\n",
              "    <div class=\"colab-df-container\">\n",
              "      <div>\n",
              "<style scoped>\n",
              "    .dataframe tbody tr th:only-of-type {\n",
              "        vertical-align: middle;\n",
              "    }\n",
              "\n",
              "    .dataframe tbody tr th {\n",
              "        vertical-align: top;\n",
              "    }\n",
              "\n",
              "    .dataframe thead th {\n",
              "        text-align: right;\n",
              "    }\n",
              "</style>\n",
              "<table border=\"1\" class=\"dataframe\">\n",
              "  <thead>\n",
              "    <tr style=\"text-align: right;\">\n",
              "      <th></th>\n",
              "      <th>0</th>\n",
              "      <th>1</th>\n",
              "      <th>2</th>\n",
              "    </tr>\n",
              "  </thead>\n",
              "  <tbody>\n",
              "    <tr>\n",
              "      <th>0</th>\n",
              "      <td>1</td>\n",
              "      <td>0</td>\n",
              "      <td>0</td>\n",
              "    </tr>\n",
              "    <tr>\n",
              "      <th>1</th>\n",
              "      <td>0</td>\n",
              "      <td>1</td>\n",
              "      <td>0</td>\n",
              "    </tr>\n",
              "    <tr>\n",
              "      <th>2</th>\n",
              "      <td>0</td>\n",
              "      <td>1</td>\n",
              "      <td>0</td>\n",
              "    </tr>\n",
              "    <tr>\n",
              "      <th>3</th>\n",
              "      <td>1</td>\n",
              "      <td>0</td>\n",
              "      <td>0</td>\n",
              "    </tr>\n",
              "    <tr>\n",
              "      <th>4</th>\n",
              "      <td>0</td>\n",
              "      <td>0</td>\n",
              "      <td>1</td>\n",
              "    </tr>\n",
              "  </tbody>\n",
              "</table>\n",
              "</div>\n",
              "      <button class=\"colab-df-convert\" onclick=\"convertToInteractive('df-e4afb227-56d1-42f6-9ce7-893cdbe2e359')\"\n",
              "              title=\"Convert this dataframe to an interactive table.\"\n",
              "              style=\"display:none;\">\n",
              "        \n",
              "  <svg xmlns=\"http://www.w3.org/2000/svg\" height=\"24px\"viewBox=\"0 0 24 24\"\n",
              "       width=\"24px\">\n",
              "    <path d=\"M0 0h24v24H0V0z\" fill=\"none\"/>\n",
              "    <path d=\"M18.56 5.44l.94 2.06.94-2.06 2.06-.94-2.06-.94-.94-2.06-.94 2.06-2.06.94zm-11 1L8.5 8.5l.94-2.06 2.06-.94-2.06-.94L8.5 2.5l-.94 2.06-2.06.94zm10 10l.94 2.06.94-2.06 2.06-.94-2.06-.94-.94-2.06-.94 2.06-2.06.94z\"/><path d=\"M17.41 7.96l-1.37-1.37c-.4-.4-.92-.59-1.43-.59-.52 0-1.04.2-1.43.59L10.3 9.45l-7.72 7.72c-.78.78-.78 2.05 0 2.83L4 21.41c.39.39.9.59 1.41.59.51 0 1.02-.2 1.41-.59l7.78-7.78 2.81-2.81c.8-.78.8-2.07 0-2.86zM5.41 20L4 18.59l7.72-7.72 1.47 1.35L5.41 20z\"/>\n",
              "  </svg>\n",
              "      </button>\n",
              "      \n",
              "  <style>\n",
              "    .colab-df-container {\n",
              "      display:flex;\n",
              "      flex-wrap:wrap;\n",
              "      gap: 12px;\n",
              "    }\n",
              "\n",
              "    .colab-df-convert {\n",
              "      background-color: #E8F0FE;\n",
              "      border: none;\n",
              "      border-radius: 50%;\n",
              "      cursor: pointer;\n",
              "      display: none;\n",
              "      fill: #1967D2;\n",
              "      height: 32px;\n",
              "      padding: 0 0 0 0;\n",
              "      width: 32px;\n",
              "    }\n",
              "\n",
              "    .colab-df-convert:hover {\n",
              "      background-color: #E2EBFA;\n",
              "      box-shadow: 0px 1px 2px rgba(60, 64, 67, 0.3), 0px 1px 3px 1px rgba(60, 64, 67, 0.15);\n",
              "      fill: #174EA6;\n",
              "    }\n",
              "\n",
              "    [theme=dark] .colab-df-convert {\n",
              "      background-color: #3B4455;\n",
              "      fill: #D2E3FC;\n",
              "    }\n",
              "\n",
              "    [theme=dark] .colab-df-convert:hover {\n",
              "      background-color: #434B5C;\n",
              "      box-shadow: 0px 1px 3px 1px rgba(0, 0, 0, 0.15);\n",
              "      filter: drop-shadow(0px 1px 2px rgba(0, 0, 0, 0.3));\n",
              "      fill: #FFFFFF;\n",
              "    }\n",
              "  </style>\n",
              "\n",
              "      <script>\n",
              "        const buttonEl =\n",
              "          document.querySelector('#df-e4afb227-56d1-42f6-9ce7-893cdbe2e359 button.colab-df-convert');\n",
              "        buttonEl.style.display =\n",
              "          google.colab.kernel.accessAllowed ? 'block' : 'none';\n",
              "\n",
              "        async function convertToInteractive(key) {\n",
              "          const element = document.querySelector('#df-e4afb227-56d1-42f6-9ce7-893cdbe2e359');\n",
              "          const dataTable =\n",
              "            await google.colab.kernel.invokeFunction('convertToInteractive',\n",
              "                                                     [key], {});\n",
              "          if (!dataTable) return;\n",
              "\n",
              "          const docLinkHtml = 'Like what you see? Visit the ' +\n",
              "            '<a target=\"_blank\" href=https://colab.research.google.com/notebooks/data_table.ipynb>data table notebook</a>'\n",
              "            + ' to learn more about interactive tables.';\n",
              "          element.innerHTML = '';\n",
              "          dataTable['output_type'] = 'display_data';\n",
              "          await google.colab.output.renderOutput(dataTable, element);\n",
              "          const docLink = document.createElement('div');\n",
              "          docLink.innerHTML = docLinkHtml;\n",
              "          element.appendChild(docLink);\n",
              "        }\n",
              "      </script>\n",
              "    </div>\n",
              "  </div>\n",
              "  "
            ],
            "text/plain": [
              "   0  1  2\n",
              "0  1  0  0\n",
              "1  0  1  0\n",
              "2  0  1  0\n",
              "3  1  0  0\n",
              "4  0  0  1"
            ]
          },
          "metadata": {},
          "execution_count": 14
        }
      ],
      "source": [
        "y_test_1h[:5] "
      ]
    },
    {
      "cell_type": "markdown",
      "source": [
        "ตรวจสอบมิติของอินพุต เอาต์พุต"
      ],
      "metadata": {
        "id": "-Q9rDoIQ7zaT"
      },
      "id": "-Q9rDoIQ7zaT"
    },
    {
      "cell_type": "code",
      "execution_count": 15,
      "id": "55b58507-3a8e-42a7-9313-4543458c23ad",
      "metadata": {
        "colab": {
          "base_uri": "https://localhost:8080/"
        },
        "id": "55b58507-3a8e-42a7-9313-4543458c23ad",
        "outputId": "688d05b0-62fa-4272-8796-22c745b03165"
      },
      "outputs": [
        {
          "output_type": "execute_result",
          "data": {
            "text/plain": [
              "((112, 3), (38, 3))"
            ]
          },
          "metadata": {},
          "execution_count": 15
        }
      ],
      "source": [
        "y_train_1h.shape, y_test_1h.shape \n",
        "\n"
      ]
    },
    {
      "cell_type": "code",
      "execution_count": 16,
      "id": "8dfbcd71-319f-4de1-bff4-f961747e156f",
      "metadata": {
        "colab": {
          "base_uri": "https://localhost:8080/"
        },
        "id": "8dfbcd71-319f-4de1-bff4-f961747e156f",
        "outputId": "a14d3c6a-4af9-4551-b60f-92d83cfc4515"
      },
      "outputs": [
        {
          "output_type": "execute_result",
          "data": {
            "text/plain": [
              "array([[ 0.79566902, -0.59237301,  0.47857113,  0.3957741 ],\n",
              "       [ 1.03800476, -1.28296331,  1.16062026,  0.79067065],\n",
              "       [ 1.15917263, -0.13197948,  0.99010798,  1.18556721],\n",
              "       [-0.90068117,  1.01900435, -1.34022653, -1.18381211]])"
            ]
          },
          "metadata": {},
          "execution_count": 16
        }
      ],
      "source": [
        "X_train[:4]"
      ]
    },
    {
      "cell_type": "code",
      "execution_count": 17,
      "id": "afeef49a-af9f-4044-bcfd-bcfdb7524b40",
      "metadata": {
        "colab": {
          "base_uri": "https://localhost:8080/"
        },
        "id": "afeef49a-af9f-4044-bcfd-bcfdb7524b40",
        "outputId": "9203ca1c-1704-400a-8495-2df930b68b34"
      },
      "outputs": [
        {
          "output_type": "execute_result",
          "data": {
            "text/plain": [
              "array([1, 2, 2, 0])"
            ]
          },
          "metadata": {},
          "execution_count": 17
        }
      ],
      "source": [
        "y_train[:4]"
      ]
    },
    {
      "cell_type": "code",
      "execution_count": 18,
      "id": "4cc8adca-5c4f-48a3-b609-312fb2c1047d",
      "metadata": {
        "colab": {
          "base_uri": "https://localhost:8080/",
          "height": 175
        },
        "id": "4cc8adca-5c4f-48a3-b609-312fb2c1047d",
        "outputId": "f311c214-ec21-4404-fe86-71a9cb1a981f"
      },
      "outputs": [
        {
          "output_type": "execute_result",
          "data": {
            "text/html": [
              "\n",
              "  <div id=\"df-680a6059-3574-48b5-98fb-fa6052701f7f\">\n",
              "    <div class=\"colab-df-container\">\n",
              "      <div>\n",
              "<style scoped>\n",
              "    .dataframe tbody tr th:only-of-type {\n",
              "        vertical-align: middle;\n",
              "    }\n",
              "\n",
              "    .dataframe tbody tr th {\n",
              "        vertical-align: top;\n",
              "    }\n",
              "\n",
              "    .dataframe thead th {\n",
              "        text-align: right;\n",
              "    }\n",
              "</style>\n",
              "<table border=\"1\" class=\"dataframe\">\n",
              "  <thead>\n",
              "    <tr style=\"text-align: right;\">\n",
              "      <th></th>\n",
              "      <th>0</th>\n",
              "      <th>1</th>\n",
              "      <th>2</th>\n",
              "    </tr>\n",
              "  </thead>\n",
              "  <tbody>\n",
              "    <tr>\n",
              "      <th>0</th>\n",
              "      <td>0</td>\n",
              "      <td>1</td>\n",
              "      <td>0</td>\n",
              "    </tr>\n",
              "    <tr>\n",
              "      <th>1</th>\n",
              "      <td>0</td>\n",
              "      <td>0</td>\n",
              "      <td>1</td>\n",
              "    </tr>\n",
              "    <tr>\n",
              "      <th>2</th>\n",
              "      <td>0</td>\n",
              "      <td>0</td>\n",
              "      <td>1</td>\n",
              "    </tr>\n",
              "    <tr>\n",
              "      <th>3</th>\n",
              "      <td>1</td>\n",
              "      <td>0</td>\n",
              "      <td>0</td>\n",
              "    </tr>\n",
              "  </tbody>\n",
              "</table>\n",
              "</div>\n",
              "      <button class=\"colab-df-convert\" onclick=\"convertToInteractive('df-680a6059-3574-48b5-98fb-fa6052701f7f')\"\n",
              "              title=\"Convert this dataframe to an interactive table.\"\n",
              "              style=\"display:none;\">\n",
              "        \n",
              "  <svg xmlns=\"http://www.w3.org/2000/svg\" height=\"24px\"viewBox=\"0 0 24 24\"\n",
              "       width=\"24px\">\n",
              "    <path d=\"M0 0h24v24H0V0z\" fill=\"none\"/>\n",
              "    <path d=\"M18.56 5.44l.94 2.06.94-2.06 2.06-.94-2.06-.94-.94-2.06-.94 2.06-2.06.94zm-11 1L8.5 8.5l.94-2.06 2.06-.94-2.06-.94L8.5 2.5l-.94 2.06-2.06.94zm10 10l.94 2.06.94-2.06 2.06-.94-2.06-.94-.94-2.06-.94 2.06-2.06.94z\"/><path d=\"M17.41 7.96l-1.37-1.37c-.4-.4-.92-.59-1.43-.59-.52 0-1.04.2-1.43.59L10.3 9.45l-7.72 7.72c-.78.78-.78 2.05 0 2.83L4 21.41c.39.39.9.59 1.41.59.51 0 1.02-.2 1.41-.59l7.78-7.78 2.81-2.81c.8-.78.8-2.07 0-2.86zM5.41 20L4 18.59l7.72-7.72 1.47 1.35L5.41 20z\"/>\n",
              "  </svg>\n",
              "      </button>\n",
              "      \n",
              "  <style>\n",
              "    .colab-df-container {\n",
              "      display:flex;\n",
              "      flex-wrap:wrap;\n",
              "      gap: 12px;\n",
              "    }\n",
              "\n",
              "    .colab-df-convert {\n",
              "      background-color: #E8F0FE;\n",
              "      border: none;\n",
              "      border-radius: 50%;\n",
              "      cursor: pointer;\n",
              "      display: none;\n",
              "      fill: #1967D2;\n",
              "      height: 32px;\n",
              "      padding: 0 0 0 0;\n",
              "      width: 32px;\n",
              "    }\n",
              "\n",
              "    .colab-df-convert:hover {\n",
              "      background-color: #E2EBFA;\n",
              "      box-shadow: 0px 1px 2px rgba(60, 64, 67, 0.3), 0px 1px 3px 1px rgba(60, 64, 67, 0.15);\n",
              "      fill: #174EA6;\n",
              "    }\n",
              "\n",
              "    [theme=dark] .colab-df-convert {\n",
              "      background-color: #3B4455;\n",
              "      fill: #D2E3FC;\n",
              "    }\n",
              "\n",
              "    [theme=dark] .colab-df-convert:hover {\n",
              "      background-color: #434B5C;\n",
              "      box-shadow: 0px 1px 3px 1px rgba(0, 0, 0, 0.15);\n",
              "      filter: drop-shadow(0px 1px 2px rgba(0, 0, 0, 0.3));\n",
              "      fill: #FFFFFF;\n",
              "    }\n",
              "  </style>\n",
              "\n",
              "      <script>\n",
              "        const buttonEl =\n",
              "          document.querySelector('#df-680a6059-3574-48b5-98fb-fa6052701f7f button.colab-df-convert');\n",
              "        buttonEl.style.display =\n",
              "          google.colab.kernel.accessAllowed ? 'block' : 'none';\n",
              "\n",
              "        async function convertToInteractive(key) {\n",
              "          const element = document.querySelector('#df-680a6059-3574-48b5-98fb-fa6052701f7f');\n",
              "          const dataTable =\n",
              "            await google.colab.kernel.invokeFunction('convertToInteractive',\n",
              "                                                     [key], {});\n",
              "          if (!dataTable) return;\n",
              "\n",
              "          const docLinkHtml = 'Like what you see? Visit the ' +\n",
              "            '<a target=\"_blank\" href=https://colab.research.google.com/notebooks/data_table.ipynb>data table notebook</a>'\n",
              "            + ' to learn more about interactive tables.';\n",
              "          element.innerHTML = '';\n",
              "          dataTable['output_type'] = 'display_data';\n",
              "          await google.colab.output.renderOutput(dataTable, element);\n",
              "          const docLink = document.createElement('div');\n",
              "          docLink.innerHTML = docLinkHtml;\n",
              "          element.appendChild(docLink);\n",
              "        }\n",
              "      </script>\n",
              "    </div>\n",
              "  </div>\n",
              "  "
            ],
            "text/plain": [
              "   0  1  2\n",
              "0  0  1  0\n",
              "1  0  0  1\n",
              "2  0  0  1\n",
              "3  1  0  0"
            ]
          },
          "metadata": {},
          "execution_count": 18
        }
      ],
      "source": [
        "y_train_1h[:4]"
      ]
    },
    {
      "cell_type": "markdown",
      "id": "0db7ceba-63c1-479a-a57b-7b0721d4b0e3",
      "metadata": {
        "id": "0db7ceba-63c1-479a-a57b-7b0721d4b0e3"
      },
      "source": [
        "# Model"
      ]
    },
    {
      "cell_type": "code",
      "execution_count": 19,
      "id": "66968c46-3d8e-4198-ac31-b234c1228c36",
      "metadata": {
        "id": "66968c46-3d8e-4198-ac31-b234c1228c36"
      },
      "outputs": [],
      "source": [
        "from tensorflow.keras import Sequential\n",
        "from tensorflow.keras.layers import Dense \n",
        "\n",
        "\n",
        "model = Sequential()\n",
        "\n",
        "hidden_node = 64\n",
        " \n",
        "model.add(Dense(hidden_node, activation='relu', input_shape=(4,))) \n",
        "\n",
        "model.add(Dense(3, activation='softmax'))"
      ]
    },
    {
      "cell_type": "code",
      "execution_count": 20,
      "id": "4e3e4161-8069-460a-8ecb-26b2c31bb574",
      "metadata": {
        "colab": {
          "base_uri": "https://localhost:8080/"
        },
        "id": "4e3e4161-8069-460a-8ecb-26b2c31bb574",
        "outputId": "9b0561d7-0745-4935-80d2-4003466d72bd"
      },
      "outputs": [
        {
          "output_type": "stream",
          "name": "stdout",
          "text": [
            "Model: \"sequential\"\n",
            "_________________________________________________________________\n",
            " Layer (type)                Output Shape              Param #   \n",
            "=================================================================\n",
            " dense (Dense)               (None, 64)                320       \n",
            "                                                                 \n",
            " dense_1 (Dense)             (None, 3)                 195       \n",
            "                                                                 \n",
            "=================================================================\n",
            "Total params: 515\n",
            "Trainable params: 515\n",
            "Non-trainable params: 0\n",
            "_________________________________________________________________\n"
          ]
        }
      ],
      "source": [
        "model.summary()"
      ]
    },
    {
      "cell_type": "code",
      "execution_count": 21,
      "id": "5c9b2ca3-e401-4fa9-b56f-4f90c4db8874",
      "metadata": {
        "tags": [],
        "colab": {
          "base_uri": "https://localhost:8080/"
        },
        "id": "5c9b2ca3-e401-4fa9-b56f-4f90c4db8874",
        "outputId": "ff160f0e-2d5d-47b8-ef3a-07966799f818"
      },
      "outputs": [
        {
          "output_type": "execute_result",
          "data": {
            "text/plain": [
              "(None, 3)"
            ]
          },
          "metadata": {},
          "execution_count": 21
        }
      ],
      "source": [
        "model.output_shape"
      ]
    },
    {
      "cell_type": "code",
      "execution_count": 22,
      "id": "801417a1-2a50-46eb-8c2b-67902b5d35e5",
      "metadata": {
        "tags": [],
        "colab": {
          "base_uri": "https://localhost:8080/"
        },
        "id": "801417a1-2a50-46eb-8c2b-67902b5d35e5",
        "outputId": "f979cebd-718f-46ad-f449-b29b9d0a6500"
      },
      "outputs": [
        {
          "output_type": "execute_result",
          "data": {
            "text/plain": [
              "{'layers': [{'class_name': 'InputLayer',\n",
              "   'config': {'batch_input_shape': (None, 4),\n",
              "    'dtype': 'float32',\n",
              "    'name': 'dense_input',\n",
              "    'ragged': False,\n",
              "    'sparse': False}},\n",
              "  {'class_name': 'Dense',\n",
              "   'config': {'activation': 'relu',\n",
              "    'activity_regularizer': None,\n",
              "    'batch_input_shape': (None, 4),\n",
              "    'bias_constraint': None,\n",
              "    'bias_initializer': {'class_name': 'Zeros', 'config': {}},\n",
              "    'bias_regularizer': None,\n",
              "    'dtype': 'float32',\n",
              "    'kernel_constraint': None,\n",
              "    'kernel_initializer': {'class_name': 'GlorotUniform',\n",
              "     'config': {'seed': None}},\n",
              "    'kernel_regularizer': None,\n",
              "    'name': 'dense',\n",
              "    'trainable': True,\n",
              "    'units': 64,\n",
              "    'use_bias': True}},\n",
              "  {'class_name': 'Dense',\n",
              "   'config': {'activation': 'softmax',\n",
              "    'activity_regularizer': None,\n",
              "    'bias_constraint': None,\n",
              "    'bias_initializer': {'class_name': 'Zeros', 'config': {}},\n",
              "    'bias_regularizer': None,\n",
              "    'dtype': 'float32',\n",
              "    'kernel_constraint': None,\n",
              "    'kernel_initializer': {'class_name': 'GlorotUniform',\n",
              "     'config': {'seed': None}},\n",
              "    'kernel_regularizer': None,\n",
              "    'name': 'dense_1',\n",
              "    'trainable': True,\n",
              "    'units': 3,\n",
              "    'use_bias': True}}],\n",
              " 'name': 'sequential'}"
            ]
          },
          "metadata": {},
          "execution_count": 22
        }
      ],
      "source": [
        "model.get_config()"
      ]
    },
    {
      "cell_type": "code",
      "execution_count": 23,
      "id": "9738473a-b7a2-43ef-8a15-62f56e0da281",
      "metadata": {
        "id": "9738473a-b7a2-43ef-8a15-62f56e0da281"
      },
      "outputs": [],
      "source": [
        "model.compile(loss='categorical_crossentropy',\n",
        "              optimizer='adam',\n",
        "              metrics=['accuracy'])"
      ]
    },
    {
      "cell_type": "code",
      "execution_count": 24,
      "id": "f84b7311-abfe-4e58-b982-7d372adce187",
      "metadata": {
        "colab": {
          "base_uri": "https://localhost:8080/"
        },
        "id": "f84b7311-abfe-4e58-b982-7d372adce187",
        "outputId": "84165280-bc44-4f9e-b00b-5d44455ae428"
      },
      "outputs": [
        {
          "output_type": "stream",
          "name": "stdout",
          "text": [
            "Epoch 1/100\n",
            "11/11 [==============================] - 1s 24ms/step - loss: 1.0906 - accuracy: 0.3095 - val_loss: 1.1316 - val_accuracy: 0.2500\n",
            "Epoch 2/100\n",
            "11/11 [==============================] - 0s 6ms/step - loss: 0.9361 - accuracy: 0.5952 - val_loss: 1.0330 - val_accuracy: 0.5000\n",
            "Epoch 3/100\n",
            "11/11 [==============================] - 0s 5ms/step - loss: 0.8199 - accuracy: 0.7262 - val_loss: 0.9519 - val_accuracy: 0.5357\n",
            "Epoch 4/100\n",
            "11/11 [==============================] - 0s 4ms/step - loss: 0.7234 - accuracy: 0.7381 - val_loss: 0.8792 - val_accuracy: 0.5714\n",
            "Epoch 5/100\n",
            "11/11 [==============================] - 0s 6ms/step - loss: 0.6539 - accuracy: 0.7381 - val_loss: 0.8210 - val_accuracy: 0.5714\n",
            "Epoch 6/100\n",
            "11/11 [==============================] - 0s 5ms/step - loss: 0.5936 - accuracy: 0.7500 - val_loss: 0.7640 - val_accuracy: 0.6071\n",
            "Epoch 7/100\n",
            "11/11 [==============================] - 0s 6ms/step - loss: 0.5449 - accuracy: 0.7976 - val_loss: 0.7191 - val_accuracy: 0.6429\n",
            "Epoch 8/100\n",
            "11/11 [==============================] - 0s 6ms/step - loss: 0.5030 - accuracy: 0.8333 - val_loss: 0.6820 - val_accuracy: 0.6786\n",
            "Epoch 9/100\n",
            "11/11 [==============================] - 0s 5ms/step - loss: 0.4719 - accuracy: 0.8333 - val_loss: 0.6507 - val_accuracy: 0.6786\n",
            "Epoch 10/100\n",
            "11/11 [==============================] - 0s 6ms/step - loss: 0.4428 - accuracy: 0.8452 - val_loss: 0.6170 - val_accuracy: 0.6786\n",
            "Epoch 11/100\n",
            "11/11 [==============================] - 0s 4ms/step - loss: 0.4191 - accuracy: 0.8571 - val_loss: 0.5783 - val_accuracy: 0.7143\n",
            "Epoch 12/100\n",
            "11/11 [==============================] - 0s 6ms/step - loss: 0.3965 - accuracy: 0.8571 - val_loss: 0.5505 - val_accuracy: 0.7500\n",
            "Epoch 13/100\n",
            "11/11 [==============================] - 0s 5ms/step - loss: 0.3778 - accuracy: 0.8571 - val_loss: 0.5248 - val_accuracy: 0.7500\n",
            "Epoch 14/100\n",
            "11/11 [==============================] - 0s 6ms/step - loss: 0.3610 - accuracy: 0.8690 - val_loss: 0.5042 - val_accuracy: 0.7500\n",
            "Epoch 15/100\n",
            "11/11 [==============================] - 0s 9ms/step - loss: 0.3450 - accuracy: 0.8690 - val_loss: 0.4829 - val_accuracy: 0.7857\n",
            "Epoch 16/100\n",
            "11/11 [==============================] - 0s 5ms/step - loss: 0.3327 - accuracy: 0.8690 - val_loss: 0.4545 - val_accuracy: 0.8214\n",
            "Epoch 17/100\n",
            "11/11 [==============================] - 0s 5ms/step - loss: 0.3171 - accuracy: 0.8810 - val_loss: 0.4397 - val_accuracy: 0.8214\n",
            "Epoch 18/100\n",
            "11/11 [==============================] - 0s 6ms/step - loss: 0.3050 - accuracy: 0.8929 - val_loss: 0.4196 - val_accuracy: 0.8214\n",
            "Epoch 19/100\n",
            "11/11 [==============================] - 0s 5ms/step - loss: 0.2950 - accuracy: 0.8929 - val_loss: 0.4060 - val_accuracy: 0.8214\n",
            "Epoch 20/100\n",
            "11/11 [==============================] - 0s 5ms/step - loss: 0.2834 - accuracy: 0.9048 - val_loss: 0.3872 - val_accuracy: 0.8571\n",
            "Epoch 21/100\n",
            "11/11 [==============================] - 0s 4ms/step - loss: 0.2735 - accuracy: 0.9167 - val_loss: 0.3762 - val_accuracy: 0.8571\n",
            "Epoch 22/100\n",
            "11/11 [==============================] - 0s 4ms/step - loss: 0.2648 - accuracy: 0.9286 - val_loss: 0.3609 - val_accuracy: 0.8571\n",
            "Epoch 23/100\n",
            "11/11 [==============================] - 0s 6ms/step - loss: 0.2562 - accuracy: 0.9286 - val_loss: 0.3510 - val_accuracy: 0.8571\n",
            "Epoch 24/100\n",
            "11/11 [==============================] - 0s 5ms/step - loss: 0.2481 - accuracy: 0.9286 - val_loss: 0.3438 - val_accuracy: 0.8571\n",
            "Epoch 25/100\n",
            "11/11 [==============================] - 0s 4ms/step - loss: 0.2419 - accuracy: 0.9286 - val_loss: 0.3387 - val_accuracy: 0.8214\n",
            "Epoch 26/100\n",
            "11/11 [==============================] - 0s 4ms/step - loss: 0.2337 - accuracy: 0.9405 - val_loss: 0.3221 - val_accuracy: 0.8571\n",
            "Epoch 27/100\n",
            "11/11 [==============================] - 0s 6ms/step - loss: 0.2279 - accuracy: 0.9405 - val_loss: 0.3074 - val_accuracy: 0.8929\n",
            "Epoch 28/100\n",
            "11/11 [==============================] - 0s 7ms/step - loss: 0.2212 - accuracy: 0.9405 - val_loss: 0.3025 - val_accuracy: 0.8929\n",
            "Epoch 29/100\n",
            "11/11 [==============================] - 0s 7ms/step - loss: 0.2148 - accuracy: 0.9405 - val_loss: 0.2913 - val_accuracy: 0.8929\n",
            "Epoch 30/100\n",
            "11/11 [==============================] - 0s 5ms/step - loss: 0.2088 - accuracy: 0.9405 - val_loss: 0.2840 - val_accuracy: 0.8929\n",
            "Epoch 31/100\n",
            "11/11 [==============================] - 0s 5ms/step - loss: 0.2038 - accuracy: 0.9405 - val_loss: 0.2799 - val_accuracy: 0.8929\n",
            "Epoch 32/100\n",
            "11/11 [==============================] - 0s 5ms/step - loss: 0.1986 - accuracy: 0.9405 - val_loss: 0.2743 - val_accuracy: 0.8929\n",
            "Epoch 33/100\n",
            "11/11 [==============================] - 0s 5ms/step - loss: 0.1931 - accuracy: 0.9405 - val_loss: 0.2675 - val_accuracy: 0.8929\n",
            "Epoch 34/100\n",
            "11/11 [==============================] - 0s 5ms/step - loss: 0.1882 - accuracy: 0.9405 - val_loss: 0.2602 - val_accuracy: 1.0000\n",
            "Epoch 35/100\n",
            "11/11 [==============================] - 0s 5ms/step - loss: 0.1842 - accuracy: 0.9405 - val_loss: 0.2549 - val_accuracy: 1.0000\n",
            "Epoch 36/100\n",
            "11/11 [==============================] - 0s 5ms/step - loss: 0.1789 - accuracy: 0.9524 - val_loss: 0.2483 - val_accuracy: 1.0000\n",
            "Epoch 37/100\n",
            "11/11 [==============================] - 0s 5ms/step - loss: 0.1745 - accuracy: 0.9524 - val_loss: 0.2392 - val_accuracy: 1.0000\n",
            "Epoch 38/100\n",
            "11/11 [==============================] - 0s 6ms/step - loss: 0.1712 - accuracy: 0.9524 - val_loss: 0.2354 - val_accuracy: 1.0000\n",
            "Epoch 39/100\n",
            "11/11 [==============================] - 0s 6ms/step - loss: 0.1670 - accuracy: 0.9524 - val_loss: 0.2266 - val_accuracy: 1.0000\n",
            "Epoch 40/100\n",
            "11/11 [==============================] - 0s 5ms/step - loss: 0.1624 - accuracy: 0.9524 - val_loss: 0.2219 - val_accuracy: 1.0000\n",
            "Epoch 41/100\n",
            "11/11 [==============================] - 0s 5ms/step - loss: 0.1602 - accuracy: 0.9524 - val_loss: 0.2159 - val_accuracy: 1.0000\n",
            "Epoch 42/100\n",
            "11/11 [==============================] - 0s 5ms/step - loss: 0.1551 - accuracy: 0.9524 - val_loss: 0.2125 - val_accuracy: 1.0000\n",
            "Epoch 43/100\n",
            "11/11 [==============================] - 0s 6ms/step - loss: 0.1515 - accuracy: 0.9524 - val_loss: 0.2106 - val_accuracy: 1.0000\n",
            "Epoch 44/100\n",
            "11/11 [==============================] - 0s 6ms/step - loss: 0.1485 - accuracy: 0.9524 - val_loss: 0.2079 - val_accuracy: 1.0000\n",
            "Epoch 45/100\n",
            "11/11 [==============================] - 0s 7ms/step - loss: 0.1453 - accuracy: 0.9524 - val_loss: 0.2008 - val_accuracy: 1.0000\n",
            "Epoch 46/100\n",
            "11/11 [==============================] - 0s 5ms/step - loss: 0.1411 - accuracy: 0.9524 - val_loss: 0.1991 - val_accuracy: 1.0000\n",
            "Epoch 47/100\n",
            "11/11 [==============================] - 0s 5ms/step - loss: 0.1387 - accuracy: 0.9643 - val_loss: 0.1974 - val_accuracy: 1.0000\n",
            "Epoch 48/100\n",
            "11/11 [==============================] - 0s 7ms/step - loss: 0.1345 - accuracy: 0.9762 - val_loss: 0.1919 - val_accuracy: 1.0000\n",
            "Epoch 49/100\n",
            "11/11 [==============================] - 0s 5ms/step - loss: 0.1316 - accuracy: 0.9643 - val_loss: 0.1873 - val_accuracy: 1.0000\n",
            "Epoch 50/100\n",
            "11/11 [==============================] - 0s 5ms/step - loss: 0.1289 - accuracy: 0.9643 - val_loss: 0.1837 - val_accuracy: 1.0000\n",
            "Epoch 51/100\n",
            "11/11 [==============================] - 0s 7ms/step - loss: 0.1266 - accuracy: 0.9762 - val_loss: 0.1824 - val_accuracy: 1.0000\n",
            "Epoch 52/100\n",
            "11/11 [==============================] - 0s 5ms/step - loss: 0.1235 - accuracy: 0.9762 - val_loss: 0.1800 - val_accuracy: 1.0000\n",
            "Epoch 53/100\n",
            "11/11 [==============================] - 0s 5ms/step - loss: 0.1207 - accuracy: 0.9762 - val_loss: 0.1756 - val_accuracy: 1.0000\n",
            "Epoch 54/100\n",
            "11/11 [==============================] - 0s 6ms/step - loss: 0.1183 - accuracy: 0.9762 - val_loss: 0.1729 - val_accuracy: 1.0000\n",
            "Epoch 55/100\n",
            "11/11 [==============================] - 0s 6ms/step - loss: 0.1158 - accuracy: 0.9762 - val_loss: 0.1699 - val_accuracy: 1.0000\n",
            "Epoch 56/100\n",
            "11/11 [==============================] - 0s 5ms/step - loss: 0.1140 - accuracy: 0.9762 - val_loss: 0.1674 - val_accuracy: 1.0000\n",
            "Epoch 57/100\n",
            "11/11 [==============================] - 0s 6ms/step - loss: 0.1111 - accuracy: 0.9762 - val_loss: 0.1657 - val_accuracy: 1.0000\n",
            "Epoch 58/100\n",
            "11/11 [==============================] - 0s 5ms/step - loss: 0.1092 - accuracy: 0.9762 - val_loss: 0.1647 - val_accuracy: 1.0000\n",
            "Epoch 59/100\n",
            "11/11 [==============================] - 0s 6ms/step - loss: 0.1074 - accuracy: 0.9762 - val_loss: 0.1625 - val_accuracy: 1.0000\n",
            "Epoch 60/100\n",
            "11/11 [==============================] - 0s 5ms/step - loss: 0.1050 - accuracy: 0.9762 - val_loss: 0.1599 - val_accuracy: 1.0000\n",
            "Epoch 61/100\n",
            "11/11 [==============================] - 0s 5ms/step - loss: 0.1030 - accuracy: 0.9762 - val_loss: 0.1585 - val_accuracy: 1.0000\n",
            "Epoch 62/100\n",
            "11/11 [==============================] - 0s 5ms/step - loss: 0.1009 - accuracy: 0.9762 - val_loss: 0.1564 - val_accuracy: 1.0000\n",
            "Epoch 63/100\n",
            "11/11 [==============================] - 0s 5ms/step - loss: 0.1012 - accuracy: 0.9762 - val_loss: 0.1539 - val_accuracy: 1.0000\n",
            "Epoch 64/100\n",
            "11/11 [==============================] - 0s 5ms/step - loss: 0.0971 - accuracy: 0.9762 - val_loss: 0.1539 - val_accuracy: 1.0000\n",
            "Epoch 65/100\n",
            "11/11 [==============================] - 0s 4ms/step - loss: 0.0959 - accuracy: 0.9762 - val_loss: 0.1532 - val_accuracy: 1.0000\n",
            "Epoch 66/100\n",
            "11/11 [==============================] - 0s 5ms/step - loss: 0.0940 - accuracy: 0.9762 - val_loss: 0.1516 - val_accuracy: 1.0000\n",
            "Epoch 67/100\n",
            "11/11 [==============================] - 0s 5ms/step - loss: 0.0922 - accuracy: 0.9762 - val_loss: 0.1497 - val_accuracy: 0.9643\n",
            "Epoch 68/100\n",
            "11/11 [==============================] - 0s 5ms/step - loss: 0.0910 - accuracy: 0.9762 - val_loss: 0.1485 - val_accuracy: 0.9643\n",
            "Epoch 69/100\n",
            "11/11 [==============================] - 0s 6ms/step - loss: 0.0905 - accuracy: 0.9762 - val_loss: 0.1475 - val_accuracy: 0.9643\n",
            "Epoch 70/100\n",
            "11/11 [==============================] - 0s 5ms/step - loss: 0.0875 - accuracy: 0.9762 - val_loss: 0.1466 - val_accuracy: 1.0000\n",
            "Epoch 71/100\n",
            "11/11 [==============================] - 0s 4ms/step - loss: 0.0869 - accuracy: 0.9762 - val_loss: 0.1452 - val_accuracy: 1.0000\n",
            "Epoch 72/100\n",
            "11/11 [==============================] - 0s 4ms/step - loss: 0.0847 - accuracy: 0.9762 - val_loss: 0.1437 - val_accuracy: 1.0000\n",
            "Epoch 73/100\n",
            "11/11 [==============================] - 0s 4ms/step - loss: 0.0836 - accuracy: 0.9762 - val_loss: 0.1430 - val_accuracy: 0.9643\n",
            "Epoch 74/100\n",
            "11/11 [==============================] - 0s 5ms/step - loss: 0.0826 - accuracy: 0.9762 - val_loss: 0.1422 - val_accuracy: 0.9643\n",
            "Epoch 75/100\n",
            "11/11 [==============================] - 0s 6ms/step - loss: 0.0821 - accuracy: 0.9762 - val_loss: 0.1405 - val_accuracy: 1.0000\n",
            "Epoch 76/100\n",
            "11/11 [==============================] - 0s 5ms/step - loss: 0.0801 - accuracy: 0.9762 - val_loss: 0.1392 - val_accuracy: 0.9643\n",
            "Epoch 77/100\n",
            "11/11 [==============================] - 0s 5ms/step - loss: 0.0788 - accuracy: 0.9762 - val_loss: 0.1378 - val_accuracy: 0.9643\n",
            "Epoch 78/100\n",
            "11/11 [==============================] - 0s 7ms/step - loss: 0.0778 - accuracy: 0.9762 - val_loss: 0.1370 - val_accuracy: 0.9643\n",
            "Epoch 79/100\n",
            "11/11 [==============================] - 0s 5ms/step - loss: 0.0768 - accuracy: 0.9762 - val_loss: 0.1364 - val_accuracy: 0.9643\n",
            "Epoch 80/100\n",
            "11/11 [==============================] - 0s 5ms/step - loss: 0.0769 - accuracy: 0.9762 - val_loss: 0.1361 - val_accuracy: 0.9643\n",
            "Epoch 81/100\n",
            "11/11 [==============================] - 0s 5ms/step - loss: 0.0751 - accuracy: 0.9762 - val_loss: 0.1360 - val_accuracy: 0.9643\n",
            "Epoch 82/100\n",
            "11/11 [==============================] - 0s 5ms/step - loss: 0.0743 - accuracy: 0.9762 - val_loss: 0.1347 - val_accuracy: 0.9643\n",
            "Epoch 83/100\n",
            "11/11 [==============================] - 0s 6ms/step - loss: 0.0739 - accuracy: 0.9762 - val_loss: 0.1342 - val_accuracy: 0.9643\n",
            "Epoch 84/100\n",
            "11/11 [==============================] - 0s 5ms/step - loss: 0.0728 - accuracy: 0.9762 - val_loss: 0.1331 - val_accuracy: 0.9643\n",
            "Epoch 85/100\n",
            "11/11 [==============================] - 0s 5ms/step - loss: 0.0713 - accuracy: 0.9762 - val_loss: 0.1325 - val_accuracy: 0.9643\n",
            "Epoch 86/100\n",
            "11/11 [==============================] - 0s 6ms/step - loss: 0.0708 - accuracy: 0.9762 - val_loss: 0.1319 - val_accuracy: 0.9643\n",
            "Epoch 87/100\n",
            "11/11 [==============================] - 0s 5ms/step - loss: 0.0695 - accuracy: 0.9762 - val_loss: 0.1316 - val_accuracy: 0.9643\n",
            "Epoch 88/100\n",
            "11/11 [==============================] - 0s 5ms/step - loss: 0.0696 - accuracy: 0.9762 - val_loss: 0.1314 - val_accuracy: 0.9643\n",
            "Epoch 89/100\n",
            "11/11 [==============================] - 0s 5ms/step - loss: 0.0697 - accuracy: 0.9762 - val_loss: 0.1349 - val_accuracy: 0.9643\n",
            "Epoch 90/100\n",
            "11/11 [==============================] - 0s 6ms/step - loss: 0.0684 - accuracy: 0.9762 - val_loss: 0.1320 - val_accuracy: 0.9643\n",
            "Epoch 91/100\n",
            "11/11 [==============================] - 0s 7ms/step - loss: 0.0670 - accuracy: 0.9762 - val_loss: 0.1304 - val_accuracy: 0.9643\n",
            "Epoch 92/100\n",
            "11/11 [==============================] - 0s 6ms/step - loss: 0.0660 - accuracy: 0.9762 - val_loss: 0.1304 - val_accuracy: 0.9643\n",
            "Epoch 93/100\n",
            "11/11 [==============================] - 0s 6ms/step - loss: 0.0653 - accuracy: 0.9762 - val_loss: 0.1294 - val_accuracy: 0.9643\n",
            "Epoch 94/100\n",
            "11/11 [==============================] - 0s 6ms/step - loss: 0.0657 - accuracy: 0.9762 - val_loss: 0.1282 - val_accuracy: 0.9643\n",
            "Epoch 95/100\n",
            "11/11 [==============================] - 0s 7ms/step - loss: 0.0637 - accuracy: 0.9762 - val_loss: 0.1308 - val_accuracy: 0.9643\n",
            "Epoch 96/100\n",
            "11/11 [==============================] - 0s 4ms/step - loss: 0.0644 - accuracy: 0.9762 - val_loss: 0.1316 - val_accuracy: 0.9643\n",
            "Epoch 97/100\n",
            "11/11 [==============================] - 0s 6ms/step - loss: 0.0635 - accuracy: 0.9762 - val_loss: 0.1284 - val_accuracy: 0.9643\n",
            "Epoch 98/100\n",
            "11/11 [==============================] - 0s 5ms/step - loss: 0.0620 - accuracy: 0.9762 - val_loss: 0.1285 - val_accuracy: 0.9643\n",
            "Epoch 99/100\n",
            "11/11 [==============================] - 0s 5ms/step - loss: 0.0618 - accuracy: 0.9762 - val_loss: 0.1274 - val_accuracy: 0.9643\n",
            "Epoch 100/100\n",
            "11/11 [==============================] - 0s 6ms/step - loss: 0.0618 - accuracy: 0.9762 - val_loss: 0.1307 - val_accuracy: 0.9643\n"
          ]
        }
      ],
      "source": [
        "history = model.fit(X_train, y_train_1h, epochs=100, batch_size=8, verbose=1, validation_split=0.25) "
      ]
    },
    {
      "cell_type": "code",
      "execution_count": 25,
      "id": "315d0ea7-6b0d-4743-8554-209838913b9f",
      "metadata": {
        "tags": [],
        "colab": {
          "base_uri": "https://localhost:8080/"
        },
        "id": "315d0ea7-6b0d-4743-8554-209838913b9f",
        "outputId": "7425c6fb-fa4e-4d3c-b510-2fa7e5748235"
      },
      "outputs": [
        {
          "output_type": "stream",
          "name": "stdout",
          "text": [
            "Test loss: 0.06702466309070587\n",
            "Test accuracy: 0.9736841917037964\n"
          ]
        }
      ],
      "source": [
        "score = model.evaluate(X_test, y_test_1h, verbose=0)\n",
        "print(\"Test loss:\", score[0])\n",
        "print(\"Test accuracy:\", score[1])"
      ]
    },
    {
      "cell_type": "code",
      "execution_count": 26,
      "id": "020bd907-0383-4433-8534-a1c46cef1f21",
      "metadata": {
        "tags": [],
        "colab": {
          "base_uri": "https://localhost:8080/"
        },
        "id": "020bd907-0383-4433-8534-a1c46cef1f21",
        "outputId": "5ee436bb-48ca-46f4-c15b-289b2239d379"
      },
      "outputs": [
        {
          "output_type": "execute_result",
          "data": {
            "text/plain": [
              "['loss', 'accuracy']"
            ]
          },
          "metadata": {},
          "execution_count": 26
        }
      ],
      "source": [
        "model.metrics_names"
      ]
    },
    {
      "cell_type": "code",
      "execution_count": 27,
      "id": "8ffecbb9-6b70-4bed-bc57-509d85003380",
      "metadata": {
        "tags": [],
        "colab": {
          "base_uri": "https://localhost:8080/"
        },
        "id": "8ffecbb9-6b70-4bed-bc57-509d85003380",
        "outputId": "6d00a60a-d261-4ff3-df72-f93a56626023"
      },
      "outputs": [
        {
          "output_type": "execute_result",
          "data": {
            "text/plain": [
              "array([[1.   , 0.   , 0.   ],\n",
              "       [0.085, 0.904, 0.01 ],\n",
              "       [0.002, 0.976, 0.022],\n",
              "       [1.   , 0.   , 0.   ]], dtype=float32)"
            ]
          },
          "metadata": {},
          "execution_count": 27
        }
      ],
      "source": [
        "y_pred = model.predict(X_test)\n",
        "\n",
        "y_pred[:4]\n",
        "y_pred[:4].round(3)"
      ]
    },
    {
      "cell_type": "code",
      "execution_count": 28,
      "id": "a259b073-ce0e-4fe6-a8a4-dc699086540f",
      "metadata": {
        "colab": {
          "base_uri": "https://localhost:8080/"
        },
        "id": "a259b073-ce0e-4fe6-a8a4-dc699086540f",
        "outputId": "7273a4b2-44ae-4352-f8ef-688b25053bd7"
      },
      "outputs": [
        {
          "output_type": "execute_result",
          "data": {
            "text/plain": [
              "array([0, 1, 1, 0])"
            ]
          },
          "metadata": {},
          "execution_count": 28
        }
      ],
      "source": [
        "y_pred_cat = np.argmax(y_pred, axis=1)\n",
        "y_pred_cat[:4]"
      ]
    },
    {
      "cell_type": "code",
      "execution_count": 29,
      "id": "5e108e7e-72b9-465b-9f98-03573bf43841",
      "metadata": {
        "colab": {
          "base_uri": "https://localhost:8080/"
        },
        "id": "5e108e7e-72b9-465b-9f98-03573bf43841",
        "outputId": "8d29c15d-0cc3-4ac6-fb29-4c2fc5cbd319"
      },
      "outputs": [
        {
          "output_type": "stream",
          "name": "stdout",
          "text": [
            "              precision    recall  f1-score   support\n",
            "\n",
            "      setosa       1.00      1.00      1.00        13\n",
            "  versicolor       1.00      0.94      0.97        16\n",
            "   virginica       0.90      1.00      0.95         9\n",
            "\n",
            "    accuracy                           0.97        38\n",
            "   macro avg       0.97      0.98      0.97        38\n",
            "weighted avg       0.98      0.97      0.97        38\n",
            "\n",
            "[[13  0  0]\n",
            " [ 0 15  1]\n",
            " [ 0  0  9]]\n"
          ]
        }
      ],
      "source": [
        "from sklearn.metrics import classification_report, confusion_matrix\n",
        "print(classification_report(y_test, y_pred_cat, target_names=class_names))\n",
        "print(confusion_matrix(y_test, y_pred_cat))"
      ]
    },
    {
      "cell_type": "code",
      "execution_count": 30,
      "id": "f824581e-794e-4005-a6cd-b2e768c1ded2",
      "metadata": {
        "colab": {
          "base_uri": "https://localhost:8080/",
          "height": 295
        },
        "id": "f824581e-794e-4005-a6cd-b2e768c1ded2",
        "outputId": "c0514f8b-8d88-46a2-aa27-8eec28ec0b19"
      },
      "outputs": [
        {
          "output_type": "display_data",
          "data": {
            "image/png": "[encoded data removed]",
            "text/plain": [
              "<Figure size 432x288 with 1 Axes>"
            ]
          },
          "metadata": {
            "needs_background": "light"
          }
        }
      ],
      "source": [
        "df_hist = pd.DataFrame.from_dict(history.history)\n",
        "\n",
        "df_hist['loss'].plot(style='b--', label='Trainning')\n",
        "df_hist['val_loss'].plot(style='r-', label='Validation')\n",
        "plt.xlabel('Epoch')\n",
        "plt.ylabel('Loss')\n",
        "\n",
        "plt.legend()\n",
        "plt.title('Loss')\n",
        "plt.show()"
      ]
    },
    {
      "cell_type": "code",
      "execution_count": 31,
      "id": "72a03d4a-b5c1-45b6-a1db-7d9d1c6b6150",
      "metadata": {
        "colab": {
          "base_uri": "https://localhost:8080/",
          "height": 295
        },
        "id": "72a03d4a-b5c1-45b6-a1db-7d9d1c6b6150",
        "outputId": "3b795234-d035-4d0b-a97d-d4ed6d1c26e0"
      },
      "outputs": [
        {
          "output_type": "display_data",
          "data": {
            "image/png": "[encoded data removed]",
            "text/plain": [
              "<Figure size 432x288 with 1 Axes>"
            ]
          },
          "metadata": {
            "needs_background": "light"
          }
        }
      ],
      "source": [
        "df_hist['accuracy'].plot(style='b--', label='Trainning')\n",
        "df_hist['val_accuracy'].plot(label='Test')\n",
        "\n",
        "plt.title('Model Accuracy')\n",
        "plt.ylabel('accuracy')\n",
        "plt.xlabel('epoch')\n",
        "plt.legend()\n",
        "plt.show()"
      ]
    },
    {
      "cell_type": "code",
      "execution_count": 32,
      "id": "7f5d357c-9a48-4d30-8ca3-ad1ad9a8d875",
      "metadata": {
        "colab": {
          "base_uri": "https://localhost:8080/"
        },
        "id": "7f5d357c-9a48-4d30-8ca3-ad1ad9a8d875",
        "outputId": "f6003b23-b178-4021-e292-1b943749b598"
      },
      "outputs": [
        {
          "output_type": "stream",
          "name": "stderr",
          "text": [
            "/usr/local/lib/python3.7/dist-packages/sklearn/base.py:451: UserWarning: X does not have valid feature names, but StandardScaler was fitted with feature names\n",
            "  \"X does not have valid feature names, but\"\n"
          ]
        },
        {
          "output_type": "execute_result",
          "data": {
            "text/plain": [
              "array([[ 2.73435494,  2.16998818,  1.21745768,  1.18556721],\n",
              "       [ 1.15917263,  1.24920112, -0.14664056,  0.26414192]])"
            ]
          },
          "metadata": {},
          "execution_count": 32
        }
      ],
      "source": [
        "X_new = [[8.1, 4.0, 5.9, 2.1], # \n",
        "         [6.8, 3.6, 3.5, 1.4]] # \n",
        "\n",
        "# X_new = [[8.1, 4.0, 5.9, 2.1]]\n",
        "\n",
        "X_new_sc = sc.transform(X_new)\n",
        "X_new_sc"
      ]
    },
    {
      "cell_type": "code",
      "execution_count": 33,
      "id": "e42b1cb6-67b5-4313-88d7-19d6087210fa",
      "metadata": {
        "colab": {
          "base_uri": "https://localhost:8080/"
        },
        "id": "e42b1cb6-67b5-4313-88d7-19d6087210fa",
        "outputId": "116462bb-1292-4499-e12c-5f073dd1e8b8"
      },
      "outputs": [
        {
          "output_type": "stream",
          "name": "stdout",
          "text": [
            "['versicolor' 'versicolor']\n"
          ]
        }
      ],
      "source": [
        "y_pred_pr = model.predict(X_new_sc)\n",
        "y_pred = np.argmax(y_pred_pr, axis=1)\n",
        "print(class_names[y_pred])"
      ]
    },
    {
      "cell_type": "markdown",
      "id": "ff220d0a-d36c-46c3-8620-f2578c70d00d",
      "metadata": {
        "id": "ff220d0a-d36c-46c3-8620-f2578c70d00d"
      },
      "source": [
        "## Boundary"
      ]
    },
    {
      "cell_type": "code",
      "execution_count": 34,
      "id": "8afbaa8b-aabc-4e89-ba0e-71d91e40cad7",
      "metadata": {
        "id": "8afbaa8b-aabc-4e89-ba0e-71d91e40cad7"
      },
      "outputs": [],
      "source": [
        "class Onehot2Int(object):\n",
        "    def __init__(self, model):\n",
        "        self.model = model\n",
        "\n",
        "    def predict(self, X):\n",
        "        y_pred = self.model.predict(X)\n",
        "        return np.argmax(y_pred, axis=1)\n",
        "    \n",
        "model_no_ohe = Onehot2Int(model)    "
      ]
    },
    {
      "cell_type": "code",
      "execution_count": 35,
      "id": "4b270a6d-c12e-4c15-9cae-01c520d69728",
      "metadata": {
        "colab": {
          "base_uri": "https://localhost:8080/",
          "height": 351
        },
        "id": "4b270a6d-c12e-4c15-9cae-01c520d69728",
        "outputId": "15f2bb73-e1ca-4ec4-a592-704223193117"
      },
      "outputs": [
        {
          "output_type": "stream",
          "name": "stderr",
          "text": [
            "/usr/local/lib/python3.7/dist-packages/mlxtend/plotting/decision_regions.py:244: MatplotlibDeprecationWarning: Passing unsupported keyword arguments to axis() will raise a TypeError in 3.3.\n",
            "  ax.axis(xmin=xx.min(), xmax=xx.max(), y_min=yy.min(), y_max=yy.max())\n"
          ]
        },
        {
          "output_type": "display_data",
          "data": {
            "image/png": "[encoded data removed]",
            "text/plain": [
              "<Figure size 432x288 with 1 Axes>"
            ]
          },
          "metadata": {
            "needs_background": "light"
          }
        }
      ],
      "source": [
        "from mlxtend.plotting import plot_decision_regions\n",
        "\n",
        "value = 0\n",
        "width = 5.5\n",
        "\n",
        "ax = plot_decision_regions(X_test, np.array(y_test),\n",
        "\n",
        "                    clf=model_no_ohe, feature_index=[2, 3],  \n",
        "                    filler_feature_values={0: value, 1: value},\n",
        "                    filler_feature_ranges={0: width, 1: width},\n",
        "                    legend=2)\n",
        "\n",
        "handles, labels = ax.get_legend_handles_labels()\n",
        "ax.legend(handles, class_names, framealpha=0.5)\n",
        "\n",
        "plt.title('Iris (Hidden={})'.format(hidden_node))\n",
        "# plt.xticks([])\n",
        "plt.yticks([])\n",
        "plt.xlabel('petal_length')\n",
        "plt.ylabel('petal_width')\n",
        "\n",
        "plt.scatter(X_new_sc[:,2][y_pred==0], X_new_sc[:,3][y_pred==0], marker='s', s=180, c='b')\n",
        "plt.scatter(X_new_sc[:,2][y_pred==1], X_new_sc[:,3][y_pred==1], marker='^', s=230, c='#7d4128') # \n",
        "plt.scatter(X_new_sc[:,2][y_pred==2], X_new_sc[:,3][y_pred==2], marker='o', s=150, c='b')\n",
        "plt.show()"
      ]
    },
    {
      "cell_type": "code",
      "execution_count": 35,
      "id": "62c1f60c-9645-4dfa-b49e-6626c6f67f39",
      "metadata": {
        "id": "62c1f60c-9645-4dfa-b49e-6626c6f67f39"
      },
      "outputs": [],
      "source": [
        ""
      ]
    }
  ],
  "metadata": {
    "kernelspec": {
      "display_name": "Python 3 (ipykernel)",
      "language": "python",
      "name": "python3"
    },
    "language_info": {
      "codemirror_mode": {
        "name": "ipython",
        "version": 3
      },
      "file_extension": ".py",
      "mimetype": "text/x-python",
      "name": "python",
      "nbconvert_exporter": "python",
      "pygments_lexer": "ipython3",
      "version": "3.9.7"
    },
    "colab": {
      "name": "Iris.ipynb",
      "provenance": [],
      "collapsed_sections": [],
      "include_colab_link": true
    }
  },
  "nbformat": 4,
  "nbformat_minor": 5
}