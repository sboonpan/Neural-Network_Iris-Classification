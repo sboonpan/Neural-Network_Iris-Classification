{
  "cells": [
    {
      "cell_type": "markdown",
      "metadata": {
        "id": "view-in-github",
        "colab_type": "text"
      },
      "source": [
        "<a href=\"https://colab.research.google.com/github/sboonpan/Neural-Network_Iris-Classification/blob/main/Iris.ipynb\" target=\"_parent\"><img src=\"https://colab.research.google.com/assets/colab-badge.svg\" alt=\"Open In Colab\"/></a>"
      ]
    },
    {
      "cell_type": "markdown",
      "id": "296a98f5-4a2d-495c-bd06-937342ab6845",
      "metadata": {
        "id": "296a98f5-4a2d-495c-bd06-937342ab6845"
      },
      "source": [
        "# ws 06"
      ]
    },
    {
      "cell_type": "code",
      "execution_count": 1,
      "id": "500acb6a-f5d5-4da3-885e-b5d3766cd25c",
      "metadata": {
        "id": "500acb6a-f5d5-4da3-885e-b5d3766cd25c"
      },
      "outputs": [],
      "source": [
        "import pandas as pd\n",
        "import numpy as np\n",
        "import seaborn as sns\n",
        "import matplotlib.pyplot as plt"
      ]
    },
    {
      "cell_type": "code",
      "execution_count": 2,
      "id": "75900792-7c79-4a74-91ef-d5b9803e06b3",
      "metadata": {
        "colab": {
          "base_uri": "https://localhost:8080/",
          "height": 206
        },
        "id": "75900792-7c79-4a74-91ef-d5b9803e06b3",
        "outputId": "ef456ec0-ec3a-4550-a91c-8ec4be679d15"
      },
      "outputs": [
        {
          "output_type": "execute_result",
          "data": {
            "text/html": [
              "\n",
              "  <div id=\"df-073bdc26-c4e6-4b56-a431-5c5795e8cace\">\n",
              "    <div class=\"colab-df-container\">\n",
              "      <div>\n",
              "<style scoped>\n",
              "    .dataframe tbody tr th:only-of-type {\n",
              "        vertical-align: middle;\n",
              "    }\n",
              "\n",
              "    .dataframe tbody tr th {\n",
              "        vertical-align: top;\n",
              "    }\n",
              "\n",
              "    .dataframe thead th {\n",
              "        text-align: right;\n",
              "    }\n",
              "</style>\n",
              "<table border=\"1\" class=\"dataframe\">\n",
              "  <thead>\n",
              "    <tr style=\"text-align: right;\">\n",
              "      <th></th>\n",
              "      <th>sepal_length</th>\n",
              "      <th>sepal_width</th>\n",
              "      <th>petal_length</th>\n",
              "      <th>petal_width</th>\n",
              "      <th>species</th>\n",
              "    </tr>\n",
              "  </thead>\n",
              "  <tbody>\n",
              "    <tr>\n",
              "      <th>14</th>\n",
              "      <td>5.8</td>\n",
              "      <td>4.0</td>\n",
              "      <td>1.2</td>\n",
              "      <td>0.2</td>\n",
              "      <td>setosa</td>\n",
              "    </tr>\n",
              "    <tr>\n",
              "      <th>98</th>\n",
              "      <td>5.1</td>\n",
              "      <td>2.5</td>\n",
              "      <td>3.0</td>\n",
              "      <td>1.1</td>\n",
              "      <td>versicolor</td>\n",
              "    </tr>\n",
              "    <tr>\n",
              "      <th>75</th>\n",
              "      <td>6.6</td>\n",
              "      <td>3.0</td>\n",
              "      <td>4.4</td>\n",
              "      <td>1.4</td>\n",
              "      <td>versicolor</td>\n",
              "    </tr>\n",
              "    <tr>\n",
              "      <th>16</th>\n",
              "      <td>5.4</td>\n",
              "      <td>3.9</td>\n",
              "      <td>1.3</td>\n",
              "      <td>0.4</td>\n",
              "      <td>setosa</td>\n",
              "    </tr>\n",
              "    <tr>\n",
              "      <th>131</th>\n",
              "      <td>7.9</td>\n",
              "      <td>3.8</td>\n",
              "      <td>6.4</td>\n",
              "      <td>2.0</td>\n",
              "      <td>virginica</td>\n",
              "    </tr>\n",
              "  </tbody>\n",
              "</table>\n",
              "</div>\n",
              "      <button class=\"colab-df-convert\" onclick=\"convertToInteractive('df-073bdc26-c4e6-4b56-a431-5c5795e8cace')\"\n",
              "              title=\"Convert this dataframe to an interactive table.\"\n",
              "              style=\"display:none;\">\n",
              "        \n",
              "  <svg xmlns=\"http://www.w3.org/2000/svg\" height=\"24px\"viewBox=\"0 0 24 24\"\n",
              "       width=\"24px\">\n",
              "    <path d=\"M0 0h24v24H0V0z\" fill=\"none\"/>\n",
              "    <path d=\"M18.56 5.44l.94 2.06.94-2.06 2.06-.94-2.06-.94-.94-2.06-.94 2.06-2.06.94zm-11 1L8.5 8.5l.94-2.06 2.06-.94-2.06-.94L8.5 2.5l-.94 2.06-2.06.94zm10 10l.94 2.06.94-2.06 2.06-.94-2.06-.94-.94-2.06-.94 2.06-2.06.94z\"/><path d=\"M17.41 7.96l-1.37-1.37c-.4-.4-.92-.59-1.43-.59-.52 0-1.04.2-1.43.59L10.3 9.45l-7.72 7.72c-.78.78-.78 2.05 0 2.83L4 21.41c.39.39.9.59 1.41.59.51 0 1.02-.2 1.41-.59l7.78-7.78 2.81-2.81c.8-.78.8-2.07 0-2.86zM5.41 20L4 18.59l7.72-7.72 1.47 1.35L5.41 20z\"/>\n",
              "  </svg>\n",
              "      </button>\n",
              "      \n",
              "  <style>\n",
              "    .colab-df-container {\n",
              "      display:flex;\n",
              "      flex-wrap:wrap;\n",
              "      gap: 12px;\n",
              "    }\n",
              "\n",
              "    .colab-df-convert {\n",
              "      background-color: #E8F0FE;\n",
              "      border: none;\n",
              "      border-radius: 50%;\n",
              "      cursor: pointer;\n",
              "      display: none;\n",
              "      fill: #1967D2;\n",
              "      height: 32px;\n",
              "      padding: 0 0 0 0;\n",
              "      width: 32px;\n",
              "    }\n",
              "\n",
              "    .colab-df-convert:hover {\n",
              "      background-color: #E2EBFA;\n",
              "      box-shadow: 0px 1px 2px rgba(60, 64, 67, 0.3), 0px 1px 3px 1px rgba(60, 64, 67, 0.15);\n",
              "      fill: #174EA6;\n",
              "    }\n",
              "\n",
              "    [theme=dark] .colab-df-convert {\n",
              "      background-color: #3B4455;\n",
              "      fill: #D2E3FC;\n",
              "    }\n",
              "\n",
              "    [theme=dark] .colab-df-convert:hover {\n",
              "      background-color: #434B5C;\n",
              "      box-shadow: 0px 1px 3px 1px rgba(0, 0, 0, 0.15);\n",
              "      filter: drop-shadow(0px 1px 2px rgba(0, 0, 0, 0.3));\n",
              "      fill: #FFFFFF;\n",
              "    }\n",
              "  </style>\n",
              "\n",
              "      <script>\n",
              "        const buttonEl =\n",
              "          document.querySelector('#df-073bdc26-c4e6-4b56-a431-5c5795e8cace button.colab-df-convert');\n",
              "        buttonEl.style.display =\n",
              "          google.colab.kernel.accessAllowed ? 'block' : 'none';\n",
              "\n",
              "        async function convertToInteractive(key) {\n",
              "          const element = document.querySelector('#df-073bdc26-c4e6-4b56-a431-5c5795e8cace');\n",
              "          const dataTable =\n",
              "            await google.colab.kernel.invokeFunction('convertToInteractive',\n",
              "                                                     [key], {});\n",
              "          if (!dataTable) return;\n",
              "\n",
              "          const docLinkHtml = 'Like what you see? Visit the ' +\n",
              "            '<a target=\"_blank\" href=https://colab.research.google.com/notebooks/data_table.ipynb>data table notebook</a>'\n",
              "            + ' to learn more about interactive tables.';\n",
              "          element.innerHTML = '';\n",
              "          dataTable['output_type'] = 'display_data';\n",
              "          await google.colab.output.renderOutput(dataTable, element);\n",
              "          const docLink = document.createElement('div');\n",
              "          docLink.innerHTML = docLinkHtml;\n",
              "          element.appendChild(docLink);\n",
              "        }\n",
              "      </script>\n",
              "    </div>\n",
              "  </div>\n",
              "  "
            ],
            "text/plain": [
              "     sepal_length  sepal_width  petal_length  petal_width     species\n",
              "14            5.8          4.0           1.2          0.2      setosa\n",
              "98            5.1          2.5           3.0          1.1  versicolor\n",
              "75            6.6          3.0           4.4          1.4  versicolor\n",
              "16            5.4          3.9           1.3          0.4      setosa\n",
              "131           7.9          3.8           6.4          2.0   virginica"
            ]
          },
          "metadata": {},
          "execution_count": 2
        }
      ],
      "source": [
        "df = sns.load_dataset('iris')\n",
        "# df.head()\n",
        "df.sample(5, random_state=1)"
      ]
    },
    {
      "cell_type": "code",
      "execution_count": 3,
      "id": "b7e796df-4f71-4bf8-8d4a-fd5ebf0e5f43",
      "metadata": {
        "colab": {
          "base_uri": "https://localhost:8080/"
        },
        "id": "b7e796df-4f71-4bf8-8d4a-fd5ebf0e5f43",
        "outputId": "dad4ef3e-9c7a-4fe2-e39a-f6d90a3aed0d"
      },
      "outputs": [
        {
          "output_type": "execute_result",
          "data": {
            "text/plain": [
              "sepal_length    0\n",
              "sepal_width     0\n",
              "petal_length    0\n",
              "petal_width     0\n",
              "species         0\n",
              "dtype: int64"
            ]
          },
          "metadata": {},
          "execution_count": 3
        }
      ],
      "source": [
        "df.isnull().sum()"
      ]
    },
    {
      "cell_type": "code",
      "execution_count": 4,
      "id": "3bbd3804-2efb-4961-8b3b-80caf0a35742",
      "metadata": {
        "colab": {
          "base_uri": "https://localhost:8080/",
          "height": 280
        },
        "id": "3bbd3804-2efb-4961-8b3b-80caf0a35742",
        "outputId": "1237352e-8d5f-484d-88d0-1ef7c160175f"
      },
      "outputs": [
        {
          "output_type": "display_data",
          "data": {
            "image/png": "[encoded data removed]",
            "text/plain": [
              "<Figure size 432x288 with 1 Axes>"
            ]
          },
          "metadata": {
            "needs_background": "light"
          }
        }
      ],
      "source": [
        "sns.scatterplot(x='petal_length', y='petal_width', data=df, hue='species', style='species', \n",
        "                alpha=0.85, edgecolor='w', s=100)\n",
        "plt.show()"
      ]
    },
    {
      "cell_type": "code",
      "execution_count": 5,
      "id": "ddc27e54-500e-4e48-8218-c862094ab266",
      "metadata": {
        "colab": {
          "base_uri": "https://localhost:8080/"
        },
        "id": "ddc27e54-500e-4e48-8218-c862094ab266",
        "outputId": "0461e4e7-7397-43bb-fdc1-2f049563c33a"
      },
      "outputs": [
        {
          "output_type": "execute_result",
          "data": {
            "text/plain": [
              "(Index(['setosa', 'versicolor', 'virginica'], dtype='object'),\n",
              " array([0, 0, 0, 0, 0, 1, 1, 1, 1, 1, 1, 1, 1, 1, 1, 1, 1, 1, 1, 1, 1, 1,\n",
              "        1, 1, 1, 1, 1, 1, 1, 1, 1, 1, 1, 1, 1, 1, 1, 1, 1, 1, 1, 1, 1, 1,\n",
              "        1, 1, 1, 1, 1, 1, 1, 1, 1, 1, 1, 2, 2, 2, 2, 2]))"
            ]
          },
          "metadata": {},
          "execution_count": 5
        }
      ],
      "source": [
        "y, class_names = pd.factorize(df.species, sort=True) \n",
        "# print(pd.unique(y))\n",
        "\n",
        "class_names, y[45:105]"
      ]
    },
    {
      "cell_type": "code",
      "execution_count": 6,
      "id": "ac913cbd-f586-4b3a-9e26-253d5ba95219",
      "metadata": {
        "colab": {
          "base_uri": "https://localhost:8080/"
        },
        "id": "ac913cbd-f586-4b3a-9e26-253d5ba95219",
        "outputId": "f6413170-4f7b-4ff7-df1c-e37fa11d060e"
      },
      "outputs": [
        {
          "output_type": "execute_result",
          "data": {
            "text/plain": [
              "(array(['setosa', 'versicolor', 'virginica'], dtype=object),\n",
              " array([0, 0, 0, 0, 0, 1, 1, 1, 1, 1, 1, 1, 1, 1, 1, 1, 1, 1, 1, 1, 1, 1,\n",
              "        1, 1, 1, 1, 1, 1, 1, 1, 1, 1, 1, 1, 1, 1, 1, 1, 1, 1, 1, 1, 1, 1,\n",
              "        1, 1, 1, 1, 1, 1, 1, 1, 1, 1, 1, 2, 2, 2, 2, 2]))"
            ]
          },
          "metadata": {},
          "execution_count": 6
        }
      ],
      "source": [
        "class_names, y = np.unique(df.species, return_inverse=True)\n",
        "class_names, y[45:105]"
      ]
    },
    {
      "cell_type": "code",
      "execution_count": 7,
      "id": "efa36f54-fb4f-4c7f-8bd4-e8c2568b96f6",
      "metadata": {
        "colab": {
          "base_uri": "https://localhost:8080/",
          "height": 237
        },
        "id": "efa36f54-fb4f-4c7f-8bd4-e8c2568b96f6",
        "outputId": "6b01480c-93ae-44ae-e94e-beb497697a5f"
      },
      "outputs": [
        {
          "output_type": "execute_result",
          "data": {
            "text/html": [
              "\n",
              "  <div id=\"df-89998709-f4f6-40d6-a176-d27fdd6364c2\">\n",
              "    <div class=\"colab-df-container\">\n",
              "      <div>\n",
              "<style scoped>\n",
              "    .dataframe tbody tr th:only-of-type {\n",
              "        vertical-align: middle;\n",
              "    }\n",
              "\n",
              "    .dataframe tbody tr th {\n",
              "        vertical-align: top;\n",
              "    }\n",
              "\n",
              "    .dataframe thead th {\n",
              "        text-align: right;\n",
              "    }\n",
              "</style>\n",
              "<table border=\"1\" class=\"dataframe\">\n",
              "  <thead>\n",
              "    <tr style=\"text-align: right;\">\n",
              "      <th></th>\n",
              "      <th>sepal_length</th>\n",
              "      <th>sepal_width</th>\n",
              "      <th>petal_length</th>\n",
              "      <th>petal_width</th>\n",
              "    </tr>\n",
              "  </thead>\n",
              "  <tbody>\n",
              "    <tr>\n",
              "      <th>14</th>\n",
              "      <td>5.8</td>\n",
              "      <td>4.0</td>\n",
              "      <td>1.2</td>\n",
              "      <td>0.2</td>\n",
              "    </tr>\n",
              "    <tr>\n",
              "      <th>98</th>\n",
              "      <td>5.1</td>\n",
              "      <td>2.5</td>\n",
              "      <td>3.0</td>\n",
              "      <td>1.1</td>\n",
              "    </tr>\n",
              "    <tr>\n",
              "      <th>75</th>\n",
              "      <td>6.6</td>\n",
              "      <td>3.0</td>\n",
              "      <td>4.4</td>\n",
              "      <td>1.4</td>\n",
              "    </tr>\n",
              "    <tr>\n",
              "      <th>16</th>\n",
              "      <td>5.4</td>\n",
              "      <td>3.9</td>\n",
              "      <td>1.3</td>\n",
              "      <td>0.4</td>\n",
              "    </tr>\n",
              "    <tr>\n",
              "      <th>131</th>\n",
              "      <td>7.9</td>\n",
              "      <td>3.8</td>\n",
              "      <td>6.4</td>\n",
              "      <td>2.0</td>\n",
              "    </tr>\n",
              "    <tr>\n",
              "      <th>56</th>\n",
              "      <td>6.3</td>\n",
              "      <td>3.3</td>\n",
              "      <td>4.7</td>\n",
              "      <td>1.6</td>\n",
              "    </tr>\n",
              "  </tbody>\n",
              "</table>\n",
              "</div>\n",
              "      <button class=\"colab-df-convert\" onclick=\"convertToInteractive('df-89998709-f4f6-40d6-a176-d27fdd6364c2')\"\n",
              "              title=\"Convert this dataframe to an interactive table.\"\n",
              "              style=\"display:none;\">\n",
              "        \n",
              "  <svg xmlns=\"http://www.w3.org/2000/svg\" height=\"24px\"viewBox=\"0 0 24 24\"\n",
              "       width=\"24px\">\n",
              "    <path d=\"M0 0h24v24H0V0z\" fill=\"none\"/>\n",
              "    <path d=\"M18.56 5.44l.94 2.06.94-2.06 2.06-.94-2.06-.94-.94-2.06-.94 2.06-2.06.94zm-11 1L8.5 8.5l.94-2.06 2.06-.94-2.06-.94L8.5 2.5l-.94 2.06-2.06.94zm10 10l.94 2.06.94-2.06 2.06-.94-2.06-.94-.94-2.06-.94 2.06-2.06.94z\"/><path d=\"M17.41 7.96l-1.37-1.37c-.4-.4-.92-.59-1.43-.59-.52 0-1.04.2-1.43.59L10.3 9.45l-7.72 7.72c-.78.78-.78 2.05 0 2.83L4 21.41c.39.39.9.59 1.41.59.51 0 1.02-.2 1.41-.59l7.78-7.78 2.81-2.81c.8-.78.8-2.07 0-2.86zM5.41 20L4 18.59l7.72-7.72 1.47 1.35L5.41 20z\"/>\n",
              "  </svg>\n",
              "      </button>\n",
              "      \n",
              "  <style>\n",
              "    .colab-df-container {\n",
              "      display:flex;\n",
              "      flex-wrap:wrap;\n",
              "      gap: 12px;\n",
              "    }\n",
              "\n",
              "    .colab-df-convert {\n",
              "      background-color: #E8F0FE;\n",
              "      border: none;\n",
              "      border-radius: 50%;\n",
              "      cursor: pointer;\n",
              "      display: none;\n",
              "      fill: #1967D2;\n",
              "      height: 32px;\n",
              "      padding: 0 0 0 0;\n",
              "      width: 32px;\n",
              "    }\n",
              "\n",
              "    .colab-df-convert:hover {\n",
              "      background-color: #E2EBFA;\n",
              "      box-shadow: 0px 1px 2px rgba(60, 64, 67, 0.3), 0px 1px 3px 1px rgba(60, 64, 67, 0.15);\n",
              "      fill: #174EA6;\n",
              "    }\n",
              "\n",
              "    [theme=dark] .colab-df-convert {\n",
              "      background-color: #3B4455;\n",
              "      fill: #D2E3FC;\n",
              "    }\n",
              "\n",
              "    [theme=dark] .colab-df-convert:hover {\n",
              "      background-color: #434B5C;\n",
              "      box-shadow: 0px 1px 3px 1px rgba(0, 0, 0, 0.15);\n",
              "      filter: drop-shadow(0px 1px 2px rgba(0, 0, 0, 0.3));\n",
              "      fill: #FFFFFF;\n",
              "    }\n",
              "  </style>\n",
              "\n",
              "      <script>\n",
              "        const buttonEl =\n",
              "          document.querySelector('#df-89998709-f4f6-40d6-a176-d27fdd6364c2 button.colab-df-convert');\n",
              "        buttonEl.style.display =\n",
              "          google.colab.kernel.accessAllowed ? 'block' : 'none';\n",
              "\n",
              "        async function convertToInteractive(key) {\n",
              "          const element = document.querySelector('#df-89998709-f4f6-40d6-a176-d27fdd6364c2');\n",
              "          const dataTable =\n",
              "            await google.colab.kernel.invokeFunction('convertToInteractive',\n",
              "                                                     [key], {});\n",
              "          if (!dataTable) return;\n",
              "\n",
              "          const docLinkHtml = 'Like what you see? Visit the ' +\n",
              "            '<a target=\"_blank\" href=https://colab.research.google.com/notebooks/data_table.ipynb>data table notebook</a>'\n",
              "            + ' to learn more about interactive tables.';\n",
              "          element.innerHTML = '';\n",
              "          dataTable['output_type'] = 'display_data';\n",
              "          await google.colab.output.renderOutput(dataTable, element);\n",
              "          const docLink = document.createElement('div');\n",
              "          docLink.innerHTML = docLinkHtml;\n",
              "          element.appendChild(docLink);\n",
              "        }\n",
              "      </script>\n",
              "    </div>\n",
              "  </div>\n",
              "  "
            ],
            "text/plain": [
              "     sepal_length  sepal_width  petal_length  petal_width\n",
              "14            5.8          4.0           1.2          0.2\n",
              "98            5.1          2.5           3.0          1.1\n",
              "75            6.6          3.0           4.4          1.4\n",
              "16            5.4          3.9           1.3          0.4\n",
              "131           7.9          3.8           6.4          2.0\n",
              "56            6.3          3.3           4.7          1.6"
            ]
          },
          "metadata": {},
          "execution_count": 7
        }
      ],
      "source": [
        "X = df.drop('species', axis=1)\n",
        "# X.head(6)\n",
        "X.sample(6, random_state=1)"
      ]
    },
    {
      "cell_type": "code",
      "execution_count": 8,
      "id": "29599edf-8b2f-42d9-9194-7243021107bd",
      "metadata": {
        "colab": {
          "base_uri": "https://localhost:8080/"
        },
        "id": "29599edf-8b2f-42d9-9194-7243021107bd",
        "outputId": "5d7894d4-b7fd-406a-ce2c-13ecd8d34893"
      },
      "outputs": [
        {
          "output_type": "execute_result",
          "data": {
            "text/plain": [
              "array([[-0.90068117,  1.01900435, -1.34022653, -1.3154443 ],\n",
              "       [-1.14301691, -0.13197948, -1.34022653, -1.3154443 ],\n",
              "       [-1.38535265,  0.32841405, -1.39706395, -1.3154443 ],\n",
              "       [-1.50652052,  0.09821729, -1.2833891 , -1.3154443 ]])"
            ]
          },
          "metadata": {},
          "execution_count": 8
        }
      ],
      "source": [
        "from sklearn.preprocessing import StandardScaler\n",
        "\n",
        "sc = StandardScaler()\n",
        "X_sc = sc.fit_transform(X)\n",
        "X_sc[:4]"
      ]
    },
    {
      "cell_type": "code",
      "execution_count": 9,
      "id": "a95f03c2-5261-4121-9658-7d1e06a893a3",
      "metadata": {
        "colab": {
          "base_uri": "https://localhost:8080/"
        },
        "id": "a95f03c2-5261-4121-9658-7d1e06a893a3",
        "outputId": "efc800e5-9e15-4fca-bc2e-70651fb50dc3"
      },
      "outputs": [
        {
          "output_type": "execute_result",
          "data": {
            "text/plain": [
              "((112, 4), (38, 4))"
            ]
          },
          "metadata": {},
          "execution_count": 9
        }
      ],
      "source": [
        "from sklearn.model_selection import train_test_split\n",
        "\n",
        "X_train, X_test, y_train, y_test = train_test_split(X_sc, y, test_size=0.25, random_state=1) #\n",
        "\n",
        "X_train.shape, X_test.shape"
      ]
    },
    {
      "cell_type": "code",
      "execution_count": 10,
      "id": "8330f139-90c7-49f1-96cf-8b47c8f4cfa1",
      "metadata": {
        "colab": {
          "base_uri": "https://localhost:8080/"
        },
        "id": "8330f139-90c7-49f1-96cf-8b47c8f4cfa1",
        "outputId": "dd0f4abc-5eb6-40c5-b8f8-8a0276dd0b35"
      },
      "outputs": [
        {
          "output_type": "execute_result",
          "data": {
            "text/plain": [
              "((112,), (38,))"
            ]
          },
          "metadata": {},
          "execution_count": 10
        }
      ],
      "source": [
        "y_train.shape, y_test.shape "
      ]
    },
    {
      "cell_type": "code",
      "execution_count": 11,
      "id": "3ae2dcbe-19e0-4b03-894d-e6bd3c72a1e6",
      "metadata": {
        "colab": {
          "base_uri": "https://localhost:8080/"
        },
        "id": "3ae2dcbe-19e0-4b03-894d-e6bd3c72a1e6",
        "outputId": "77a62e90-4aff-4843-a762-079be8ac9a0f"
      },
      "outputs": [
        {
          "output_type": "execute_result",
          "data": {
            "text/plain": [
              "array([1, 2, 2, 0, 2])"
            ]
          },
          "metadata": {},
          "execution_count": 11
        }
      ],
      "source": [
        "y_train[:5]"
      ]
    },
    {
      "cell_type": "code",
      "execution_count": 12,
      "id": "91cdf84a-3b72-419d-a68b-7c5b36248a33",
      "metadata": {
        "colab": {
          "base_uri": "https://localhost:8080/"
        },
        "id": "91cdf84a-3b72-419d-a68b-7c5b36248a33",
        "outputId": "64a70ce6-cceb-4c5e-bda1-7aa0bd660f94"
      },
      "outputs": [
        {
          "output_type": "execute_result",
          "data": {
            "text/plain": [
              "array([[1, 0, 0],\n",
              "       [0, 1, 0],\n",
              "       [0, 1, 0],\n",
              "       [1, 0, 0]])"
            ]
          },
          "metadata": {},
          "execution_count": 12
        }
      ],
      "source": [
        "from tensorflow.keras.utils import to_categorical\n",
        "\n",
        "def one_hot_encode(arr):\n",
        "    categories, ids = np.unique(arr, return_inverse=True)\n",
        "    return to_categorical(ids, len(categories))\n",
        "\n",
        "y_train_1h = one_hot_encode(y_train).astype('int')\n",
        "y_test_1h = one_hot_encode(y_test).astype('int')\n",
        "\n",
        "y_test_1h[:4]"
      ]
    },
    {
      "cell_type": "code",
      "execution_count": 13,
      "id": "9372a800-45cf-4c0a-b035-6e80737ac1cb",
      "metadata": {
        "colab": {
          "base_uri": "https://localhost:8080/",
          "height": 206
        },
        "id": "9372a800-45cf-4c0a-b035-6e80737ac1cb",
        "outputId": "9aea1d93-720a-4ffc-a6e3-59175a7882c4"
      },
      "outputs": [
        {
          "output_type": "execute_result",
          "data": {
            "text/html": [
              "\n",
              "  <div id=\"df-a7dc8c52-bd39-4e4b-9578-39d5b347a713\">\n",
              "    <div class=\"colab-df-container\">\n",
              "      <div>\n",
              "<style scoped>\n",
              "    .dataframe tbody tr th:only-of-type {\n",
              "        vertical-align: middle;\n",
              "    }\n",
              "\n",
              "    .dataframe tbody tr th {\n",
              "        vertical-align: top;\n",
              "    }\n",
              "\n",
              "    .dataframe thead th {\n",
              "        text-align: right;\n",
              "    }\n",
              "</style>\n",
              "<table border=\"1\" class=\"dataframe\">\n",
              "  <thead>\n",
              "    <tr style=\"text-align: right;\">\n",
              "      <th></th>\n",
              "      <th>0</th>\n",
              "      <th>1</th>\n",
              "      <th>2</th>\n",
              "    </tr>\n",
              "  </thead>\n",
              "  <tbody>\n",
              "    <tr>\n",
              "      <th>0</th>\n",
              "      <td>1</td>\n",
              "      <td>0</td>\n",
              "      <td>0</td>\n",
              "    </tr>\n",
              "    <tr>\n",
              "      <th>1</th>\n",
              "      <td>0</td>\n",
              "      <td>1</td>\n",
              "      <td>0</td>\n",
              "    </tr>\n",
              "    <tr>\n",
              "      <th>2</th>\n",
              "      <td>0</td>\n",
              "      <td>1</td>\n",
              "      <td>0</td>\n",
              "    </tr>\n",
              "    <tr>\n",
              "      <th>3</th>\n",
              "      <td>1</td>\n",
              "      <td>0</td>\n",
              "      <td>0</td>\n",
              "    </tr>\n",
              "    <tr>\n",
              "      <th>4</th>\n",
              "      <td>0</td>\n",
              "      <td>0</td>\n",
              "      <td>1</td>\n",
              "    </tr>\n",
              "  </tbody>\n",
              "</table>\n",
              "</div>\n",
              "      <button class=\"colab-df-convert\" onclick=\"convertToInteractive('df-a7dc8c52-bd39-4e4b-9578-39d5b347a713')\"\n",
              "              title=\"Convert this dataframe to an interactive table.\"\n",
              "              style=\"display:none;\">\n",
              "        \n",
              "  <svg xmlns=\"http://www.w3.org/2000/svg\" height=\"24px\"viewBox=\"0 0 24 24\"\n",
              "       width=\"24px\">\n",
              "    <path d=\"M0 0h24v24H0V0z\" fill=\"none\"/>\n",
              "    <path d=\"M18.56 5.44l.94 2.06.94-2.06 2.06-.94-2.06-.94-.94-2.06-.94 2.06-2.06.94zm-11 1L8.5 8.5l.94-2.06 2.06-.94-2.06-.94L8.5 2.5l-.94 2.06-2.06.94zm10 10l.94 2.06.94-2.06 2.06-.94-2.06-.94-.94-2.06-.94 2.06-2.06.94z\"/><path d=\"M17.41 7.96l-1.37-1.37c-.4-.4-.92-.59-1.43-.59-.52 0-1.04.2-1.43.59L10.3 9.45l-7.72 7.72c-.78.78-.78 2.05 0 2.83L4 21.41c.39.39.9.59 1.41.59.51 0 1.02-.2 1.41-.59l7.78-7.78 2.81-2.81c.8-.78.8-2.07 0-2.86zM5.41 20L4 18.59l7.72-7.72 1.47 1.35L5.41 20z\"/>\n",
              "  </svg>\n",
              "      </button>\n",
              "      \n",
              "  <style>\n",
              "    .colab-df-container {\n",
              "      display:flex;\n",
              "      flex-wrap:wrap;\n",
              "      gap: 12px;\n",
              "    }\n",
              "\n",
              "    .colab-df-convert {\n",
              "      background-color: #E8F0FE;\n",
              "      border: none;\n",
              "      border-radius: 50%;\n",
              "      cursor: pointer;\n",
              "      display: none;\n",
              "      fill: #1967D2;\n",
              "      height: 32px;\n",
              "      padding: 0 0 0 0;\n",
              "      width: 32px;\n",
              "    }\n",
              "\n",
              "    .colab-df-convert:hover {\n",
              "      background-color: #E2EBFA;\n",
              "      box-shadow: 0px 1px 2px rgba(60, 64, 67, 0.3), 0px 1px 3px 1px rgba(60, 64, 67, 0.15);\n",
              "      fill: #174EA6;\n",
              "    }\n",
              "\n",
              "    [theme=dark] .colab-df-convert {\n",
              "      background-color: #3B4455;\n",
              "      fill: #D2E3FC;\n",
              "    }\n",
              "\n",
              "    [theme=dark] .colab-df-convert:hover {\n",
              "      background-color: #434B5C;\n",
              "      box-shadow: 0px 1px 3px 1px rgba(0, 0, 0, 0.15);\n",
              "      filter: drop-shadow(0px 1px 2px rgba(0, 0, 0, 0.3));\n",
              "      fill: #FFFFFF;\n",
              "    }\n",
              "  </style>\n",
              "\n",
              "      <script>\n",
              "        const buttonEl =\n",
              "          document.querySelector('#df-a7dc8c52-bd39-4e4b-9578-39d5b347a713 button.colab-df-convert');\n",
              "        buttonEl.style.display =\n",
              "          google.colab.kernel.accessAllowed ? 'block' : 'none';\n",
              "\n",
              "        async function convertToInteractive(key) {\n",
              "          const element = document.querySelector('#df-a7dc8c52-bd39-4e4b-9578-39d5b347a713');\n",
              "          const dataTable =\n",
              "            await google.colab.kernel.invokeFunction('convertToInteractive',\n",
              "                                                     [key], {});\n",
              "          if (!dataTable) return;\n",
              "\n",
              "          const docLinkHtml = 'Like what you see? Visit the ' +\n",
              "            '<a target=\"_blank\" href=https://colab.research.google.com/notebooks/data_table.ipynb>data table notebook</a>'\n",
              "            + ' to learn more about interactive tables.';\n",
              "          element.innerHTML = '';\n",
              "          dataTable['output_type'] = 'display_data';\n",
              "          await google.colab.output.renderOutput(dataTable, element);\n",
              "          const docLink = document.createElement('div');\n",
              "          docLink.innerHTML = docLinkHtml;\n",
              "          element.appendChild(docLink);\n",
              "        }\n",
              "      </script>\n",
              "    </div>\n",
              "  </div>\n",
              "  "
            ],
            "text/plain": [
              "   0  1  2\n",
              "0  1  0  0\n",
              "1  0  1  0\n",
              "2  0  1  0\n",
              "3  1  0  0\n",
              "4  0  0  1"
            ]
          },
          "metadata": {},
          "execution_count": 13
        }
      ],
      "source": [
        "y_train_1h = pd.get_dummies(y_train)\n",
        "y_test_1h = pd.get_dummies(y_test)\n",
        "y_test_1h.head()"
      ]
    },
    {
      "cell_type": "code",
      "execution_count": 14,
      "id": "97845b4f-708e-4c49-8a86-ccc73c35dd7f",
      "metadata": {
        "colab": {
          "base_uri": "https://localhost:8080/",
          "height": 206
        },
        "id": "97845b4f-708e-4c49-8a86-ccc73c35dd7f",
        "outputId": "86859196-4173-4214-e381-56d43473a810"
      },
      "outputs": [
        {
          "output_type": "execute_result",
          "data": {
            "text/html": [
              "\n",
              "  <div id=\"df-31b54f26-e5c2-47e9-8abb-5c83bcce70ea\">\n",
              "    <div class=\"colab-df-container\">\n",
              "      <div>\n",
              "<style scoped>\n",
              "    .dataframe tbody tr th:only-of-type {\n",
              "        vertical-align: middle;\n",
              "    }\n",
              "\n",
              "    .dataframe tbody tr th {\n",
              "        vertical-align: top;\n",
              "    }\n",
              "\n",
              "    .dataframe thead th {\n",
              "        text-align: right;\n",
              "    }\n",
              "</style>\n",
              "<table border=\"1\" class=\"dataframe\">\n",
              "  <thead>\n",
              "    <tr style=\"text-align: right;\">\n",
              "      <th></th>\n",
              "      <th>0</th>\n",
              "      <th>1</th>\n",
              "      <th>2</th>\n",
              "    </tr>\n",
              "  </thead>\n",
              "  <tbody>\n",
              "    <tr>\n",
              "      <th>0</th>\n",
              "      <td>1</td>\n",
              "      <td>0</td>\n",
              "      <td>0</td>\n",
              "    </tr>\n",
              "    <tr>\n",
              "      <th>1</th>\n",
              "      <td>0</td>\n",
              "      <td>1</td>\n",
              "      <td>0</td>\n",
              "    </tr>\n",
              "    <tr>\n",
              "      <th>2</th>\n",
              "      <td>0</td>\n",
              "      <td>1</td>\n",
              "      <td>0</td>\n",
              "    </tr>\n",
              "    <tr>\n",
              "      <th>3</th>\n",
              "      <td>1</td>\n",
              "      <td>0</td>\n",
              "      <td>0</td>\n",
              "    </tr>\n",
              "    <tr>\n",
              "      <th>4</th>\n",
              "      <td>0</td>\n",
              "      <td>0</td>\n",
              "      <td>1</td>\n",
              "    </tr>\n",
              "  </tbody>\n",
              "</table>\n",
              "</div>\n",
              "      <button class=\"colab-df-convert\" onclick=\"convertToInteractive('df-31b54f26-e5c2-47e9-8abb-5c83bcce70ea')\"\n",
              "              title=\"Convert this dataframe to an interactive table.\"\n",
              "              style=\"display:none;\">\n",
              "        \n",
              "  <svg xmlns=\"http://www.w3.org/2000/svg\" height=\"24px\"viewBox=\"0 0 24 24\"\n",
              "       width=\"24px\">\n",
              "    <path d=\"M0 0h24v24H0V0z\" fill=\"none\"/>\n",
              "    <path d=\"M18.56 5.44l.94 2.06.94-2.06 2.06-.94-2.06-.94-.94-2.06-.94 2.06-2.06.94zm-11 1L8.5 8.5l.94-2.06 2.06-.94-2.06-.94L8.5 2.5l-.94 2.06-2.06.94zm10 10l.94 2.06.94-2.06 2.06-.94-2.06-.94-.94-2.06-.94 2.06-2.06.94z\"/><path d=\"M17.41 7.96l-1.37-1.37c-.4-.4-.92-.59-1.43-.59-.52 0-1.04.2-1.43.59L10.3 9.45l-7.72 7.72c-.78.78-.78 2.05 0 2.83L4 21.41c.39.39.9.59 1.41.59.51 0 1.02-.2 1.41-.59l7.78-7.78 2.81-2.81c.8-.78.8-2.07 0-2.86zM5.41 20L4 18.59l7.72-7.72 1.47 1.35L5.41 20z\"/>\n",
              "  </svg>\n",
              "      </button>\n",
              "      \n",
              "  <style>\n",
              "    .colab-df-container {\n",
              "      display:flex;\n",
              "      flex-wrap:wrap;\n",
              "      gap: 12px;\n",
              "    }\n",
              "\n",
              "    .colab-df-convert {\n",
              "      background-color: #E8F0FE;\n",
              "      border: none;\n",
              "      border-radius: 50%;\n",
              "      cursor: pointer;\n",
              "      display: none;\n",
              "      fill: #1967D2;\n",
              "      height: 32px;\n",
              "      padding: 0 0 0 0;\n",
              "      width: 32px;\n",
              "    }\n",
              "\n",
              "    .colab-df-convert:hover {\n",
              "      background-color: #E2EBFA;\n",
              "      box-shadow: 0px 1px 2px rgba(60, 64, 67, 0.3), 0px 1px 3px 1px rgba(60, 64, 67, 0.15);\n",
              "      fill: #174EA6;\n",
              "    }\n",
              "\n",
              "    [theme=dark] .colab-df-convert {\n",
              "      background-color: #3B4455;\n",
              "      fill: #D2E3FC;\n",
              "    }\n",
              "\n",
              "    [theme=dark] .colab-df-convert:hover {\n",
              "      background-color: #434B5C;\n",
              "      box-shadow: 0px 1px 3px 1px rgba(0, 0, 0, 0.15);\n",
              "      filter: drop-shadow(0px 1px 2px rgba(0, 0, 0, 0.3));\n",
              "      fill: #FFFFFF;\n",
              "    }\n",
              "  </style>\n",
              "\n",
              "      <script>\n",
              "        const buttonEl =\n",
              "          document.querySelector('#df-31b54f26-e5c2-47e9-8abb-5c83bcce70ea button.colab-df-convert');\n",
              "        buttonEl.style.display =\n",
              "          google.colab.kernel.accessAllowed ? 'block' : 'none';\n",
              "\n",
              "        async function convertToInteractive(key) {\n",
              "          const element = document.querySelector('#df-31b54f26-e5c2-47e9-8abb-5c83bcce70ea');\n",
              "          const dataTable =\n",
              "            await google.colab.kernel.invokeFunction('convertToInteractive',\n",
              "                                                     [key], {});\n",
              "          if (!dataTable) return;\n",
              "\n",
              "          const docLinkHtml = 'Like what you see? Visit the ' +\n",
              "            '<a target=\"_blank\" href=https://colab.research.google.com/notebooks/data_table.ipynb>data table notebook</a>'\n",
              "            + ' to learn more about interactive tables.';\n",
              "          element.innerHTML = '';\n",
              "          dataTable['output_type'] = 'display_data';\n",
              "          await google.colab.output.renderOutput(dataTable, element);\n",
              "          const docLink = document.createElement('div');\n",
              "          docLink.innerHTML = docLinkHtml;\n",
              "          element.appendChild(docLink);\n",
              "        }\n",
              "      </script>\n",
              "    </div>\n",
              "  </div>\n",
              "  "
            ],
            "text/plain": [
              "   0  1  2\n",
              "0  1  0  0\n",
              "1  0  1  0\n",
              "2  0  1  0\n",
              "3  1  0  0\n",
              "4  0  0  1"
            ]
          },
          "metadata": {},
          "execution_count": 14
        }
      ],
      "source": [
        "y_test_1h[:5] "
      ]
    },
    {
      "cell_type": "code",
      "execution_count": 15,
      "id": "55b58507-3a8e-42a7-9313-4543458c23ad",
      "metadata": {
        "colab": {
          "base_uri": "https://localhost:8080/"
        },
        "id": "55b58507-3a8e-42a7-9313-4543458c23ad",
        "outputId": "5b1fc29e-270c-49cd-dc99-089ebea7573b"
      },
      "outputs": [
        {
          "output_type": "execute_result",
          "data": {
            "text/plain": [
              "((112, 3), (38, 3))"
            ]
          },
          "metadata": {},
          "execution_count": 15
        }
      ],
      "source": [
        "y_train_1h.shape, y_test_1h.shape "
      ]
    },
    {
      "cell_type": "code",
      "execution_count": 16,
      "id": "8dfbcd71-319f-4de1-bff4-f961747e156f",
      "metadata": {
        "colab": {
          "base_uri": "https://localhost:8080/"
        },
        "id": "8dfbcd71-319f-4de1-bff4-f961747e156f",
        "outputId": "c63d2e9c-b41e-4561-c4d8-e488c5c6cf75"
      },
      "outputs": [
        {
          "output_type": "execute_result",
          "data": {
            "text/plain": [
              "array([[ 0.79566902, -0.59237301,  0.47857113,  0.3957741 ],\n",
              "       [ 1.03800476, -1.28296331,  1.16062026,  0.79067065],\n",
              "       [ 1.15917263, -0.13197948,  0.99010798,  1.18556721],\n",
              "       [-0.90068117,  1.01900435, -1.34022653, -1.18381211]])"
            ]
          },
          "metadata": {},
          "execution_count": 16
        }
      ],
      "source": [
        "X_train[:4]"
      ]
    },
    {
      "cell_type": "code",
      "execution_count": 17,
      "id": "afeef49a-af9f-4044-bcfd-bcfdb7524b40",
      "metadata": {
        "colab": {
          "base_uri": "https://localhost:8080/"
        },
        "id": "afeef49a-af9f-4044-bcfd-bcfdb7524b40",
        "outputId": "f8effb6f-747d-41f5-8cfa-101cf30d6aed"
      },
      "outputs": [
        {
          "output_type": "execute_result",
          "data": {
            "text/plain": [
              "array([1, 2, 2, 0])"
            ]
          },
          "metadata": {},
          "execution_count": 17
        }
      ],
      "source": [
        "y_train[:4]"
      ]
    },
    {
      "cell_type": "code",
      "execution_count": 18,
      "id": "4cc8adca-5c4f-48a3-b609-312fb2c1047d",
      "metadata": {
        "colab": {
          "base_uri": "https://localhost:8080/",
          "height": 175
        },
        "id": "4cc8adca-5c4f-48a3-b609-312fb2c1047d",
        "outputId": "3d4e4731-995e-410f-9fbd-a199a925905c"
      },
      "outputs": [
        {
          "output_type": "execute_result",
          "data": {
            "text/html": [
              "\n",
              "  <div id=\"df-a63d9d21-2aee-4f77-a9fd-fa6699981cea\">\n",
              "    <div class=\"colab-df-container\">\n",
              "      <div>\n",
              "<style scoped>\n",
              "    .dataframe tbody tr th:only-of-type {\n",
              "        vertical-align: middle;\n",
              "    }\n",
              "\n",
              "    .dataframe tbody tr th {\n",
              "        vertical-align: top;\n",
              "    }\n",
              "\n",
              "    .dataframe thead th {\n",
              "        text-align: right;\n",
              "    }\n",
              "</style>\n",
              "<table border=\"1\" class=\"dataframe\">\n",
              "  <thead>\n",
              "    <tr style=\"text-align: right;\">\n",
              "      <th></th>\n",
              "      <th>0</th>\n",
              "      <th>1</th>\n",
              "      <th>2</th>\n",
              "    </tr>\n",
              "  </thead>\n",
              "  <tbody>\n",
              "    <tr>\n",
              "      <th>0</th>\n",
              "      <td>0</td>\n",
              "      <td>1</td>\n",
              "      <td>0</td>\n",
              "    </tr>\n",
              "    <tr>\n",
              "      <th>1</th>\n",
              "      <td>0</td>\n",
              "      <td>0</td>\n",
              "      <td>1</td>\n",
              "    </tr>\n",
              "    <tr>\n",
              "      <th>2</th>\n",
              "      <td>0</td>\n",
              "      <td>0</td>\n",
              "      <td>1</td>\n",
              "    </tr>\n",
              "    <tr>\n",
              "      <th>3</th>\n",
              "      <td>1</td>\n",
              "      <td>0</td>\n",
              "      <td>0</td>\n",
              "    </tr>\n",
              "  </tbody>\n",
              "</table>\n",
              "</div>\n",
              "      <button class=\"colab-df-convert\" onclick=\"convertToInteractive('df-a63d9d21-2aee-4f77-a9fd-fa6699981cea')\"\n",
              "              title=\"Convert this dataframe to an interactive table.\"\n",
              "              style=\"display:none;\">\n",
              "        \n",
              "  <svg xmlns=\"http://www.w3.org/2000/svg\" height=\"24px\"viewBox=\"0 0 24 24\"\n",
              "       width=\"24px\">\n",
              "    <path d=\"M0 0h24v24H0V0z\" fill=\"none\"/>\n",
              "    <path d=\"M18.56 5.44l.94 2.06.94-2.06 2.06-.94-2.06-.94-.94-2.06-.94 2.06-2.06.94zm-11 1L8.5 8.5l.94-2.06 2.06-.94-2.06-.94L8.5 2.5l-.94 2.06-2.06.94zm10 10l.94 2.06.94-2.06 2.06-.94-2.06-.94-.94-2.06-.94 2.06-2.06.94z\"/><path d=\"M17.41 7.96l-1.37-1.37c-.4-.4-.92-.59-1.43-.59-.52 0-1.04.2-1.43.59L10.3 9.45l-7.72 7.72c-.78.78-.78 2.05 0 2.83L4 21.41c.39.39.9.59 1.41.59.51 0 1.02-.2 1.41-.59l7.78-7.78 2.81-2.81c.8-.78.8-2.07 0-2.86zM5.41 20L4 18.59l7.72-7.72 1.47 1.35L5.41 20z\"/>\n",
              "  </svg>\n",
              "      </button>\n",
              "      \n",
              "  <style>\n",
              "    .colab-df-container {\n",
              "      display:flex;\n",
              "      flex-wrap:wrap;\n",
              "      gap: 12px;\n",
              "    }\n",
              "\n",
              "    .colab-df-convert {\n",
              "      background-color: #E8F0FE;\n",
              "      border: none;\n",
              "      border-radius: 50%;\n",
              "      cursor: pointer;\n",
              "      display: none;\n",
              "      fill: #1967D2;\n",
              "      height: 32px;\n",
              "      padding: 0 0 0 0;\n",
              "      width: 32px;\n",
              "    }\n",
              "\n",
              "    .colab-df-convert:hover {\n",
              "      background-color: #E2EBFA;\n",
              "      box-shadow: 0px 1px 2px rgba(60, 64, 67, 0.3), 0px 1px 3px 1px rgba(60, 64, 67, 0.15);\n",
              "      fill: #174EA6;\n",
              "    }\n",
              "\n",
              "    [theme=dark] .colab-df-convert {\n",
              "      background-color: #3B4455;\n",
              "      fill: #D2E3FC;\n",
              "    }\n",
              "\n",
              "    [theme=dark] .colab-df-convert:hover {\n",
              "      background-color: #434B5C;\n",
              "      box-shadow: 0px 1px 3px 1px rgba(0, 0, 0, 0.15);\n",
              "      filter: drop-shadow(0px 1px 2px rgba(0, 0, 0, 0.3));\n",
              "      fill: #FFFFFF;\n",
              "    }\n",
              "  </style>\n",
              "\n",
              "      <script>\n",
              "        const buttonEl =\n",
              "          document.querySelector('#df-a63d9d21-2aee-4f77-a9fd-fa6699981cea button.colab-df-convert');\n",
              "        buttonEl.style.display =\n",
              "          google.colab.kernel.accessAllowed ? 'block' : 'none';\n",
              "\n",
              "        async function convertToInteractive(key) {\n",
              "          const element = document.querySelector('#df-a63d9d21-2aee-4f77-a9fd-fa6699981cea');\n",
              "          const dataTable =\n",
              "            await google.colab.kernel.invokeFunction('convertToInteractive',\n",
              "                                                     [key], {});\n",
              "          if (!dataTable) return;\n",
              "\n",
              "          const docLinkHtml = 'Like what you see? Visit the ' +\n",
              "            '<a target=\"_blank\" href=https://colab.research.google.com/notebooks/data_table.ipynb>data table notebook</a>'\n",
              "            + ' to learn more about interactive tables.';\n",
              "          element.innerHTML = '';\n",
              "          dataTable['output_type'] = 'display_data';\n",
              "          await google.colab.output.renderOutput(dataTable, element);\n",
              "          const docLink = document.createElement('div');\n",
              "          docLink.innerHTML = docLinkHtml;\n",
              "          element.appendChild(docLink);\n",
              "        }\n",
              "      </script>\n",
              "    </div>\n",
              "  </div>\n",
              "  "
            ],
            "text/plain": [
              "   0  1  2\n",
              "0  0  1  0\n",
              "1  0  0  1\n",
              "2  0  0  1\n",
              "3  1  0  0"
            ]
          },
          "metadata": {},
          "execution_count": 18
        }
      ],
      "source": [
        "y_train_1h[:4]"
      ]
    },
    {
      "cell_type": "markdown",
      "id": "0db7ceba-63c1-479a-a57b-7b0721d4b0e3",
      "metadata": {
        "id": "0db7ceba-63c1-479a-a57b-7b0721d4b0e3"
      },
      "source": [
        "# Model"
      ]
    },
    {
      "cell_type": "code",
      "execution_count": 19,
      "id": "66968c46-3d8e-4198-ac31-b234c1228c36",
      "metadata": {
        "id": "66968c46-3d8e-4198-ac31-b234c1228c36"
      },
      "outputs": [],
      "source": [
        "from tensorflow.keras import Sequential\n",
        "from tensorflow.keras.layers import Dense \n",
        "\n",
        "\n",
        "model = Sequential()\n",
        "\n",
        "hidden_node = 64\n",
        " \n",
        "model.add(Dense(hidden_node, activation='relu', input_shape=(4,))) \n",
        "\n",
        "model.add(Dense(3, activation='softmax'))"
      ]
    },
    {
      "cell_type": "code",
      "execution_count": 20,
      "id": "4e3e4161-8069-460a-8ecb-26b2c31bb574",
      "metadata": {
        "colab": {
          "base_uri": "https://localhost:8080/"
        },
        "id": "4e3e4161-8069-460a-8ecb-26b2c31bb574",
        "outputId": "c501a18d-f72f-4d66-cca3-ff135f76330d"
      },
      "outputs": [
        {
          "output_type": "stream",
          "name": "stdout",
          "text": [
            "Model: \"sequential\"\n",
            "_________________________________________________________________\n",
            " Layer (type)                Output Shape              Param #   \n",
            "=================================================================\n",
            " dense (Dense)               (None, 64)                320       \n",
            "                                                                 \n",
            " dense_1 (Dense)             (None, 3)                 195       \n",
            "                                                                 \n",
            "=================================================================\n",
            "Total params: 515\n",
            "Trainable params: 515\n",
            "Non-trainable params: 0\n",
            "_________________________________________________________________\n"
          ]
        }
      ],
      "source": [
        "model.summary()"
      ]
    },
    {
      "cell_type": "code",
      "execution_count": 21,
      "id": "5c9b2ca3-e401-4fa9-b56f-4f90c4db8874",
      "metadata": {
        "tags": [],
        "colab": {
          "base_uri": "https://localhost:8080/"
        },
        "id": "5c9b2ca3-e401-4fa9-b56f-4f90c4db8874",
        "outputId": "668cd5e1-4bff-4e81-ff41-3ae0d54444a5"
      },
      "outputs": [
        {
          "output_type": "execute_result",
          "data": {
            "text/plain": [
              "(None, 3)"
            ]
          },
          "metadata": {},
          "execution_count": 21
        }
      ],
      "source": [
        "model.output_shape"
      ]
    },
    {
      "cell_type": "code",
      "execution_count": 22,
      "id": "801417a1-2a50-46eb-8c2b-67902b5d35e5",
      "metadata": {
        "tags": [],
        "colab": {
          "base_uri": "https://localhost:8080/"
        },
        "id": "801417a1-2a50-46eb-8c2b-67902b5d35e5",
        "outputId": "f64cc303-6ac0-497c-f2e1-0c698b7553e4"
      },
      "outputs": [
        {
          "output_type": "execute_result",
          "data": {
            "text/plain": [
              "{'layers': [{'class_name': 'InputLayer',\n",
              "   'config': {'batch_input_shape': (None, 4),\n",
              "    'dtype': 'float32',\n",
              "    'name': 'dense_input',\n",
              "    'ragged': False,\n",
              "    'sparse': False}},\n",
              "  {'class_name': 'Dense',\n",
              "   'config': {'activation': 'relu',\n",
              "    'activity_regularizer': None,\n",
              "    'batch_input_shape': (None, 4),\n",
              "    'bias_constraint': None,\n",
              "    'bias_initializer': {'class_name': 'Zeros', 'config': {}},\n",
              "    'bias_regularizer': None,\n",
              "    'dtype': 'float32',\n",
              "    'kernel_constraint': None,\n",
              "    'kernel_initializer': {'class_name': 'GlorotUniform',\n",
              "     'config': {'seed': None}},\n",
              "    'kernel_regularizer': None,\n",
              "    'name': 'dense',\n",
              "    'trainable': True,\n",
              "    'units': 64,\n",
              "    'use_bias': True}},\n",
              "  {'class_name': 'Dense',\n",
              "   'config': {'activation': 'softmax',\n",
              "    'activity_regularizer': None,\n",
              "    'bias_constraint': None,\n",
              "    'bias_initializer': {'class_name': 'Zeros', 'config': {}},\n",
              "    'bias_regularizer': None,\n",
              "    'dtype': 'float32',\n",
              "    'kernel_constraint': None,\n",
              "    'kernel_initializer': {'class_name': 'GlorotUniform',\n",
              "     'config': {'seed': None}},\n",
              "    'kernel_regularizer': None,\n",
              "    'name': 'dense_1',\n",
              "    'trainable': True,\n",
              "    'units': 3,\n",
              "    'use_bias': True}}],\n",
              " 'name': 'sequential'}"
            ]
          },
          "metadata": {},
          "execution_count": 22
        }
      ],
      "source": [
        "model.get_config()"
      ]
    },
    {
      "cell_type": "code",
      "execution_count": 23,
      "id": "9738473a-b7a2-43ef-8a15-62f56e0da281",
      "metadata": {
        "id": "9738473a-b7a2-43ef-8a15-62f56e0da281"
      },
      "outputs": [],
      "source": [
        "model.compile(loss='categorical_crossentropy',\n",
        "              optimizer='adam',\n",
        "              metrics=['accuracy'])"
      ]
    },
    {
      "cell_type": "code",
      "execution_count": 24,
      "id": "f84b7311-abfe-4e58-b982-7d372adce187",
      "metadata": {
        "colab": {
          "base_uri": "https://localhost:8080/"
        },
        "id": "f84b7311-abfe-4e58-b982-7d372adce187",
        "outputId": "59dd1d83-1b41-4808-f542-eabd9ec94a7e"
      },
      "outputs": [
        {
          "output_type": "stream",
          "name": "stdout",
          "text": [
            "Epoch 1/100\n",
            "11/11 [==============================] - 1s 25ms/step - loss: 1.1560 - accuracy: 0.3214 - val_loss: 1.0182 - val_accuracy: 0.5357\n",
            "Epoch 2/100\n",
            "11/11 [==============================] - 0s 6ms/step - loss: 0.9807 - accuracy: 0.6190 - val_loss: 0.9119 - val_accuracy: 0.7500\n",
            "Epoch 3/100\n",
            "11/11 [==============================] - 0s 6ms/step - loss: 0.8254 - accuracy: 0.8214 - val_loss: 0.8272 - val_accuracy: 0.7500\n",
            "Epoch 4/100\n",
            "11/11 [==============================] - 0s 6ms/step - loss: 0.7082 - accuracy: 0.8214 - val_loss: 0.7534 - val_accuracy: 0.7143\n",
            "Epoch 5/100\n",
            "11/11 [==============================] - 0s 4ms/step - loss: 0.6113 - accuracy: 0.8214 - val_loss: 0.7014 - val_accuracy: 0.7143\n",
            "Epoch 6/100\n",
            "11/11 [==============================] - 0s 4ms/step - loss: 0.5408 - accuracy: 0.8333 - val_loss: 0.6582 - val_accuracy: 0.7143\n",
            "Epoch 7/100\n",
            "11/11 [==============================] - 0s 5ms/step - loss: 0.4861 - accuracy: 0.8333 - val_loss: 0.6182 - val_accuracy: 0.7143\n",
            "Epoch 8/100\n",
            "11/11 [==============================] - 0s 6ms/step - loss: 0.4457 - accuracy: 0.8333 - val_loss: 0.5867 - val_accuracy: 0.7143\n",
            "Epoch 9/100\n",
            "11/11 [==============================] - 0s 5ms/step - loss: 0.4142 - accuracy: 0.8214 - val_loss: 0.5595 - val_accuracy: 0.7143\n",
            "Epoch 10/100\n",
            "11/11 [==============================] - 0s 5ms/step - loss: 0.3899 - accuracy: 0.8333 - val_loss: 0.5348 - val_accuracy: 0.7500\n",
            "Epoch 11/100\n",
            "11/11 [==============================] - 0s 5ms/step - loss: 0.3696 - accuracy: 0.8452 - val_loss: 0.5116 - val_accuracy: 0.7500\n",
            "Epoch 12/100\n",
            "11/11 [==============================] - 0s 6ms/step - loss: 0.3532 - accuracy: 0.8452 - val_loss: 0.4883 - val_accuracy: 0.7500\n",
            "Epoch 13/100\n",
            "11/11 [==============================] - 0s 5ms/step - loss: 0.3371 - accuracy: 0.8571 - val_loss: 0.4714 - val_accuracy: 0.7500\n",
            "Epoch 14/100\n",
            "11/11 [==============================] - 0s 6ms/step - loss: 0.3241 - accuracy: 0.8571 - val_loss: 0.4571 - val_accuracy: 0.7857\n",
            "Epoch 15/100\n",
            "11/11 [==============================] - 0s 5ms/step - loss: 0.3122 - accuracy: 0.8571 - val_loss: 0.4409 - val_accuracy: 0.8214\n",
            "Epoch 16/100\n",
            "11/11 [==============================] - 0s 6ms/step - loss: 0.3017 - accuracy: 0.8690 - val_loss: 0.4169 - val_accuracy: 0.8214\n",
            "Epoch 17/100\n",
            "11/11 [==============================] - 0s 6ms/step - loss: 0.2906 - accuracy: 0.9048 - val_loss: 0.4043 - val_accuracy: 0.8214\n",
            "Epoch 18/100\n",
            "11/11 [==============================] - 0s 4ms/step - loss: 0.2813 - accuracy: 0.9048 - val_loss: 0.3910 - val_accuracy: 0.8214\n",
            "Epoch 19/100\n",
            "11/11 [==============================] - 0s 4ms/step - loss: 0.2729 - accuracy: 0.9167 - val_loss: 0.3768 - val_accuracy: 0.8571\n",
            "Epoch 20/100\n",
            "11/11 [==============================] - 0s 4ms/step - loss: 0.2647 - accuracy: 0.9167 - val_loss: 0.3662 - val_accuracy: 0.8571\n",
            "Epoch 21/100\n",
            "11/11 [==============================] - 0s 4ms/step - loss: 0.2574 - accuracy: 0.9167 - val_loss: 0.3548 - val_accuracy: 0.8571\n",
            "Epoch 22/100\n",
            "11/11 [==============================] - 0s 4ms/step - loss: 0.2497 - accuracy: 0.9167 - val_loss: 0.3438 - val_accuracy: 0.8571\n",
            "Epoch 23/100\n",
            "11/11 [==============================] - 0s 4ms/step - loss: 0.2428 - accuracy: 0.9167 - val_loss: 0.3318 - val_accuracy: 0.8571\n",
            "Epoch 24/100\n",
            "11/11 [==============================] - 0s 6ms/step - loss: 0.2368 - accuracy: 0.9286 - val_loss: 0.3219 - val_accuracy: 0.8571\n",
            "Epoch 25/100\n",
            "11/11 [==============================] - 0s 4ms/step - loss: 0.2294 - accuracy: 0.9286 - val_loss: 0.3182 - val_accuracy: 0.8571\n",
            "Epoch 26/100\n",
            "11/11 [==============================] - 0s 4ms/step - loss: 0.2238 - accuracy: 0.9286 - val_loss: 0.3100 - val_accuracy: 0.8571\n",
            "Epoch 27/100\n",
            "11/11 [==============================] - 0s 5ms/step - loss: 0.2183 - accuracy: 0.9286 - val_loss: 0.3009 - val_accuracy: 0.8571\n",
            "Epoch 28/100\n",
            "11/11 [==============================] - 0s 4ms/step - loss: 0.2122 - accuracy: 0.9286 - val_loss: 0.2934 - val_accuracy: 0.8929\n",
            "Epoch 29/100\n",
            "11/11 [==============================] - 0s 4ms/step - loss: 0.2071 - accuracy: 0.9405 - val_loss: 0.2869 - val_accuracy: 0.8929\n",
            "Epoch 30/100\n",
            "11/11 [==============================] - 0s 6ms/step - loss: 0.2024 - accuracy: 0.9405 - val_loss: 0.2802 - val_accuracy: 0.8929\n",
            "Epoch 31/100\n",
            "11/11 [==============================] - 0s 4ms/step - loss: 0.1971 - accuracy: 0.9405 - val_loss: 0.2741 - val_accuracy: 0.8929\n",
            "Epoch 32/100\n",
            "11/11 [==============================] - 0s 7ms/step - loss: 0.1927 - accuracy: 0.9405 - val_loss: 0.2658 - val_accuracy: 0.9286\n",
            "Epoch 33/100\n",
            "11/11 [==============================] - 0s 5ms/step - loss: 0.1882 - accuracy: 0.9405 - val_loss: 0.2596 - val_accuracy: 0.9286\n",
            "Epoch 34/100\n",
            "11/11 [==============================] - 0s 6ms/step - loss: 0.1835 - accuracy: 0.9405 - val_loss: 0.2563 - val_accuracy: 0.9286\n",
            "Epoch 35/100\n",
            "11/11 [==============================] - 0s 4ms/step - loss: 0.1791 - accuracy: 0.9524 - val_loss: 0.2490 - val_accuracy: 0.9643\n",
            "Epoch 36/100\n",
            "11/11 [==============================] - 0s 5ms/step - loss: 0.1756 - accuracy: 0.9524 - val_loss: 0.2422 - val_accuracy: 1.0000\n",
            "Epoch 37/100\n",
            "11/11 [==============================] - 0s 5ms/step - loss: 0.1715 - accuracy: 0.9524 - val_loss: 0.2394 - val_accuracy: 1.0000\n",
            "Epoch 38/100\n",
            "11/11 [==============================] - 0s 6ms/step - loss: 0.1663 - accuracy: 0.9524 - val_loss: 0.2348 - val_accuracy: 1.0000\n",
            "Epoch 39/100\n",
            "11/11 [==============================] - 0s 7ms/step - loss: 0.1625 - accuracy: 0.9524 - val_loss: 0.2302 - val_accuracy: 1.0000\n",
            "Epoch 40/100\n",
            "11/11 [==============================] - 0s 6ms/step - loss: 0.1588 - accuracy: 0.9524 - val_loss: 0.2236 - val_accuracy: 1.0000\n",
            "Epoch 41/100\n",
            "11/11 [==============================] - 0s 4ms/step - loss: 0.1557 - accuracy: 0.9524 - val_loss: 0.2172 - val_accuracy: 1.0000\n",
            "Epoch 42/100\n",
            "11/11 [==============================] - 0s 7ms/step - loss: 0.1515 - accuracy: 0.9524 - val_loss: 0.2158 - val_accuracy: 1.0000\n",
            "Epoch 43/100\n",
            "11/11 [==============================] - 0s 4ms/step - loss: 0.1477 - accuracy: 0.9524 - val_loss: 0.2107 - val_accuracy: 1.0000\n",
            "Epoch 44/100\n",
            "11/11 [==============================] - 0s 5ms/step - loss: 0.1450 - accuracy: 0.9524 - val_loss: 0.2080 - val_accuracy: 1.0000\n",
            "Epoch 45/100\n",
            "11/11 [==============================] - 0s 6ms/step - loss: 0.1408 - accuracy: 0.9643 - val_loss: 0.2021 - val_accuracy: 1.0000\n",
            "Epoch 46/100\n",
            "11/11 [==============================] - 0s 6ms/step - loss: 0.1375 - accuracy: 0.9643 - val_loss: 0.1988 - val_accuracy: 1.0000\n",
            "Epoch 47/100\n",
            "11/11 [==============================] - 0s 5ms/step - loss: 0.1342 - accuracy: 0.9643 - val_loss: 0.1951 - val_accuracy: 1.0000\n",
            "Epoch 48/100\n",
            "11/11 [==============================] - 0s 6ms/step - loss: 0.1311 - accuracy: 0.9643 - val_loss: 0.1935 - val_accuracy: 1.0000\n",
            "Epoch 49/100\n",
            "11/11 [==============================] - 0s 5ms/step - loss: 0.1283 - accuracy: 0.9643 - val_loss: 0.1896 - val_accuracy: 1.0000\n",
            "Epoch 50/100\n",
            "11/11 [==============================] - 0s 6ms/step - loss: 0.1250 - accuracy: 0.9643 - val_loss: 0.1869 - val_accuracy: 1.0000\n",
            "Epoch 51/100\n",
            "11/11 [==============================] - 0s 6ms/step - loss: 0.1227 - accuracy: 0.9643 - val_loss: 0.1836 - val_accuracy: 1.0000\n",
            "Epoch 52/100\n",
            "11/11 [==============================] - 0s 6ms/step - loss: 0.1197 - accuracy: 0.9643 - val_loss: 0.1805 - val_accuracy: 1.0000\n",
            "Epoch 53/100\n",
            "11/11 [==============================] - 0s 5ms/step - loss: 0.1169 - accuracy: 0.9643 - val_loss: 0.1789 - val_accuracy: 1.0000\n",
            "Epoch 54/100\n",
            "11/11 [==============================] - 0s 4ms/step - loss: 0.1145 - accuracy: 0.9762 - val_loss: 0.1780 - val_accuracy: 1.0000\n",
            "Epoch 55/100\n",
            "11/11 [==============================] - 0s 5ms/step - loss: 0.1125 - accuracy: 0.9762 - val_loss: 0.1763 - val_accuracy: 1.0000\n",
            "Epoch 56/100\n",
            "11/11 [==============================] - 0s 4ms/step - loss: 0.1101 - accuracy: 0.9762 - val_loss: 0.1730 - val_accuracy: 1.0000\n",
            "Epoch 57/100\n",
            "11/11 [==============================] - 0s 6ms/step - loss: 0.1076 - accuracy: 0.9762 - val_loss: 0.1709 - val_accuracy: 1.0000\n",
            "Epoch 58/100\n",
            "11/11 [==============================] - 0s 4ms/step - loss: 0.1059 - accuracy: 0.9762 - val_loss: 0.1681 - val_accuracy: 1.0000\n",
            "Epoch 59/100\n",
            "11/11 [==============================] - 0s 6ms/step - loss: 0.1045 - accuracy: 0.9762 - val_loss: 0.1682 - val_accuracy: 1.0000\n",
            "Epoch 60/100\n",
            "11/11 [==============================] - 0s 4ms/step - loss: 0.1011 - accuracy: 0.9762 - val_loss: 0.1656 - val_accuracy: 0.9643\n",
            "Epoch 61/100\n",
            "11/11 [==============================] - 0s 4ms/step - loss: 0.0997 - accuracy: 0.9762 - val_loss: 0.1635 - val_accuracy: 0.9643\n",
            "Epoch 62/100\n",
            "11/11 [==============================] - 0s 5ms/step - loss: 0.0981 - accuracy: 0.9762 - val_loss: 0.1618 - val_accuracy: 0.9643\n",
            "Epoch 63/100\n",
            "11/11 [==============================] - 0s 4ms/step - loss: 0.0961 - accuracy: 0.9762 - val_loss: 0.1605 - val_accuracy: 1.0000\n",
            "Epoch 64/100\n",
            "11/11 [==============================] - 0s 6ms/step - loss: 0.0948 - accuracy: 0.9762 - val_loss: 0.1592 - val_accuracy: 1.0000\n",
            "Epoch 65/100\n",
            "11/11 [==============================] - 0s 5ms/step - loss: 0.0927 - accuracy: 0.9762 - val_loss: 0.1580 - val_accuracy: 1.0000\n",
            "Epoch 66/100\n",
            "11/11 [==============================] - 0s 5ms/step - loss: 0.0916 - accuracy: 0.9762 - val_loss: 0.1571 - val_accuracy: 1.0000\n",
            "Epoch 67/100\n",
            "11/11 [==============================] - 0s 6ms/step - loss: 0.0896 - accuracy: 0.9762 - val_loss: 0.1551 - val_accuracy: 0.9643\n",
            "Epoch 68/100\n",
            "11/11 [==============================] - 0s 4ms/step - loss: 0.0881 - accuracy: 0.9762 - val_loss: 0.1536 - val_accuracy: 0.9643\n",
            "Epoch 69/100\n",
            "11/11 [==============================] - 0s 4ms/step - loss: 0.0872 - accuracy: 0.9762 - val_loss: 0.1529 - val_accuracy: 0.9643\n",
            "Epoch 70/100\n",
            "11/11 [==============================] - 0s 4ms/step - loss: 0.0852 - accuracy: 0.9762 - val_loss: 0.1523 - val_accuracy: 0.9643\n",
            "Epoch 71/100\n",
            "11/11 [==============================] - 0s 6ms/step - loss: 0.0841 - accuracy: 0.9762 - val_loss: 0.1511 - val_accuracy: 0.9643\n",
            "Epoch 72/100\n",
            "11/11 [==============================] - 0s 4ms/step - loss: 0.0830 - accuracy: 0.9762 - val_loss: 0.1501 - val_accuracy: 0.9643\n",
            "Epoch 73/100\n",
            "11/11 [==============================] - 0s 5ms/step - loss: 0.0818 - accuracy: 0.9762 - val_loss: 0.1494 - val_accuracy: 0.9643\n",
            "Epoch 74/100\n",
            "11/11 [==============================] - 0s 4ms/step - loss: 0.0811 - accuracy: 0.9762 - val_loss: 0.1478 - val_accuracy: 0.9643\n",
            "Epoch 75/100\n",
            "11/11 [==============================] - 0s 5ms/step - loss: 0.0797 - accuracy: 0.9762 - val_loss: 0.1471 - val_accuracy: 0.9643\n",
            "Epoch 76/100\n",
            "11/11 [==============================] - 0s 6ms/step - loss: 0.0789 - accuracy: 0.9762 - val_loss: 0.1467 - val_accuracy: 0.9643\n",
            "Epoch 77/100\n",
            "11/11 [==============================] - 0s 4ms/step - loss: 0.0777 - accuracy: 0.9762 - val_loss: 0.1471 - val_accuracy: 0.9643\n",
            "Epoch 78/100\n",
            "11/11 [==============================] - 0s 4ms/step - loss: 0.0765 - accuracy: 0.9762 - val_loss: 0.1454 - val_accuracy: 0.9643\n",
            "Epoch 79/100\n",
            "11/11 [==============================] - 0s 6ms/step - loss: 0.0753 - accuracy: 0.9762 - val_loss: 0.1445 - val_accuracy: 0.9643\n",
            "Epoch 80/100\n",
            "11/11 [==============================] - 0s 4ms/step - loss: 0.0744 - accuracy: 0.9762 - val_loss: 0.1442 - val_accuracy: 0.9643\n",
            "Epoch 81/100\n",
            "11/11 [==============================] - 0s 4ms/step - loss: 0.0739 - accuracy: 0.9762 - val_loss: 0.1446 - val_accuracy: 0.9643\n",
            "Epoch 82/100\n",
            "11/11 [==============================] - 0s 6ms/step - loss: 0.0725 - accuracy: 0.9762 - val_loss: 0.1440 - val_accuracy: 0.9643\n",
            "Epoch 83/100\n",
            "11/11 [==============================] - 0s 4ms/step - loss: 0.0717 - accuracy: 0.9762 - val_loss: 0.1426 - val_accuracy: 0.9643\n",
            "Epoch 84/100\n",
            "11/11 [==============================] - 0s 6ms/step - loss: 0.0713 - accuracy: 0.9762 - val_loss: 0.1425 - val_accuracy: 0.9643\n",
            "Epoch 85/100\n",
            "11/11 [==============================] - 0s 4ms/step - loss: 0.0708 - accuracy: 0.9762 - val_loss: 0.1417 - val_accuracy: 0.9643\n",
            "Epoch 86/100\n",
            "11/11 [==============================] - 0s 4ms/step - loss: 0.0695 - accuracy: 0.9762 - val_loss: 0.1410 - val_accuracy: 0.9643\n",
            "Epoch 87/100\n",
            "11/11 [==============================] - 0s 4ms/step - loss: 0.0682 - accuracy: 0.9762 - val_loss: 0.1408 - val_accuracy: 0.9643\n",
            "Epoch 88/100\n",
            "11/11 [==============================] - 0s 6ms/step - loss: 0.0680 - accuracy: 0.9762 - val_loss: 0.1411 - val_accuracy: 0.9643\n",
            "Epoch 89/100\n",
            "11/11 [==============================] - 0s 4ms/step - loss: 0.0669 - accuracy: 0.9762 - val_loss: 0.1409 - val_accuracy: 0.9643\n",
            "Epoch 90/100\n",
            "11/11 [==============================] - 0s 4ms/step - loss: 0.0662 - accuracy: 0.9762 - val_loss: 0.1407 - val_accuracy: 0.9643\n",
            "Epoch 91/100\n",
            "11/11 [==============================] - 0s 6ms/step - loss: 0.0654 - accuracy: 0.9762 - val_loss: 0.1394 - val_accuracy: 0.9643\n",
            "Epoch 92/100\n",
            "11/11 [==============================] - 0s 4ms/step - loss: 0.0650 - accuracy: 0.9762 - val_loss: 0.1383 - val_accuracy: 0.9643\n",
            "Epoch 93/100\n",
            "11/11 [==============================] - 0s 4ms/step - loss: 0.0643 - accuracy: 0.9762 - val_loss: 0.1419 - val_accuracy: 0.9643\n",
            "Epoch 94/100\n",
            "11/11 [==============================] - 0s 6ms/step - loss: 0.0638 - accuracy: 0.9762 - val_loss: 0.1420 - val_accuracy: 0.9286\n",
            "Epoch 95/100\n",
            "11/11 [==============================] - 0s 6ms/step - loss: 0.0632 - accuracy: 0.9762 - val_loss: 0.1414 - val_accuracy: 0.9286\n",
            "Epoch 96/100\n",
            "11/11 [==============================] - 0s 6ms/step - loss: 0.0632 - accuracy: 0.9762 - val_loss: 0.1392 - val_accuracy: 0.9643\n",
            "Epoch 97/100\n",
            "11/11 [==============================] - 0s 4ms/step - loss: 0.0617 - accuracy: 0.9762 - val_loss: 0.1390 - val_accuracy: 0.9643\n",
            "Epoch 98/100\n",
            "11/11 [==============================] - 0s 4ms/step - loss: 0.0608 - accuracy: 0.9762 - val_loss: 0.1384 - val_accuracy: 0.9643\n",
            "Epoch 99/100\n",
            "11/11 [==============================] - 0s 4ms/step - loss: 0.0602 - accuracy: 0.9762 - val_loss: 0.1377 - val_accuracy: 0.9643\n",
            "Epoch 100/100\n",
            "11/11 [==============================] - 0s 6ms/step - loss: 0.0599 - accuracy: 0.9762 - val_loss: 0.1386 - val_accuracy: 0.9643\n"
          ]
        }
      ],
      "source": [
        "history = model.fit(X_train, y_train_1h, epochs=100, batch_size=8, verbose=1, validation_split=0.25) "
      ]
    },
    {
      "cell_type": "code",
      "execution_count": 25,
      "id": "315d0ea7-6b0d-4743-8554-209838913b9f",
      "metadata": {
        "tags": [],
        "colab": {
          "base_uri": "https://localhost:8080/"
        },
        "id": "315d0ea7-6b0d-4743-8554-209838913b9f",
        "outputId": "cf1e62d3-3192-4682-f59c-2e716da0578a"
      },
      "outputs": [
        {
          "output_type": "stream",
          "name": "stdout",
          "text": [
            "Test loss: 0.06632885336875916\n",
            "Test accuracy: 0.9736841917037964\n"
          ]
        }
      ],
      "source": [
        "score = model.evaluate(X_test, y_test_1h, verbose=0)\n",
        "print(\"Test loss:\", score[0])\n",
        "print(\"Test accuracy:\", score[1])"
      ]
    },
    {
      "cell_type": "code",
      "execution_count": 26,
      "id": "020bd907-0383-4433-8534-a1c46cef1f21",
      "metadata": {
        "tags": [],
        "colab": {
          "base_uri": "https://localhost:8080/"
        },
        "id": "020bd907-0383-4433-8534-a1c46cef1f21",
        "outputId": "e8a7aede-b772-4970-82f1-fd38e91f306f"
      },
      "outputs": [
        {
          "output_type": "execute_result",
          "data": {
            "text/plain": [
              "['loss', 'accuracy']"
            ]
          },
          "metadata": {},
          "execution_count": 26
        }
      ],
      "source": [
        "model.metrics_names"
      ]
    },
    {
      "cell_type": "code",
      "execution_count": 27,
      "id": "8ffecbb9-6b70-4bed-bc57-509d85003380",
      "metadata": {
        "tags": [],
        "colab": {
          "base_uri": "https://localhost:8080/"
        },
        "id": "8ffecbb9-6b70-4bed-bc57-509d85003380",
        "outputId": "3102178a-7de9-47f7-b647-c13ad17b2ae7"
      },
      "outputs": [
        {
          "output_type": "execute_result",
          "data": {
            "text/plain": [
              "array([[0.999, 0.001, 0.   ],\n",
              "       [0.065, 0.919, 0.015],\n",
              "       [0.003, 0.963, 0.034],\n",
              "       [0.999, 0.001, 0.   ]], dtype=float32)"
            ]
          },
          "metadata": {},
          "execution_count": 27
        }
      ],
      "source": [
        "y_pred = model.predict(X_test)\n",
        "\n",
        "y_pred[:4]\n",
        "y_pred[:4].round(3)"
      ]
    },
    {
      "cell_type": "code",
      "execution_count": 28,
      "id": "a259b073-ce0e-4fe6-a8a4-dc699086540f",
      "metadata": {
        "colab": {
          "base_uri": "https://localhost:8080/"
        },
        "id": "a259b073-ce0e-4fe6-a8a4-dc699086540f",
        "outputId": "0ee279aa-b3b9-409b-964f-e2e22086913c"
      },
      "outputs": [
        {
          "output_type": "execute_result",
          "data": {
            "text/plain": [
              "array([0, 1, 1, 0])"
            ]
          },
          "metadata": {},
          "execution_count": 28
        }
      ],
      "source": [
        "y_pred_cat = np.argmax(y_pred, axis=1)\n",
        "y_pred_cat[:4]"
      ]
    },
    {
      "cell_type": "code",
      "execution_count": 29,
      "id": "5e108e7e-72b9-465b-9f98-03573bf43841",
      "metadata": {
        "colab": {
          "base_uri": "https://localhost:8080/"
        },
        "id": "5e108e7e-72b9-465b-9f98-03573bf43841",
        "outputId": "64cce2f7-fa2c-4b47-de3c-add996f180c1"
      },
      "outputs": [
        {
          "output_type": "stream",
          "name": "stdout",
          "text": [
            "              precision    recall  f1-score   support\n",
            "\n",
            "      setosa       1.00      1.00      1.00        13\n",
            "  versicolor       1.00      0.94      0.97        16\n",
            "   virginica       0.90      1.00      0.95         9\n",
            "\n",
            "    accuracy                           0.97        38\n",
            "   macro avg       0.97      0.98      0.97        38\n",
            "weighted avg       0.98      0.97      0.97        38\n",
            "\n",
            "[[13  0  0]\n",
            " [ 0 15  1]\n",
            " [ 0  0  9]]\n"
          ]
        }
      ],
      "source": [
        "from sklearn.metrics import classification_report, confusion_matrix\n",
        "print(classification_report(y_test, y_pred_cat, target_names=class_names))\n",
        "print(confusion_matrix(y_test, y_pred_cat))"
      ]
    },
    {
      "cell_type": "code",
      "execution_count": 30,
      "id": "f824581e-794e-4005-a6cd-b2e768c1ded2",
      "metadata": {
        "colab": {
          "base_uri": "https://localhost:8080/",
          "height": 295
        },
        "id": "f824581e-794e-4005-a6cd-b2e768c1ded2",
        "outputId": "bcb995c7-054e-48fe-9e8c-89f6941584f9"
      },
      "outputs": [
        {
          "output_type": "display_data",
          "data": {
            "image/png": "[encoded data removed]",
            "text/plain": [
              "<Figure size 432x288 with 1 Axes>"
            ]
          },
          "metadata": {
            "needs_background": "light"
          }
        }
      ],
      "source": [
        "df_hist = pd.DataFrame.from_dict(history.history)\n",
        "\n",
        "df_hist['loss'].plot(style='b--', label='Trainning')\n",
        "df_hist['val_loss'].plot(style='r-', label='Validation')\n",
        "plt.xlabel('Epoch')\n",
        "plt.ylabel('Loss')\n",
        "\n",
        "plt.legend()\n",
        "plt.title('Loss')\n",
        "plt.show()"
      ]
    },
    {
      "cell_type": "code",
      "execution_count": 31,
      "id": "72a03d4a-b5c1-45b6-a1db-7d9d1c6b6150",
      "metadata": {
        "colab": {
          "base_uri": "https://localhost:8080/",
          "height": 295
        },
        "id": "72a03d4a-b5c1-45b6-a1db-7d9d1c6b6150",
        "outputId": "fb79e038-daa4-47ff-9144-62eca7c6b313"
      },
      "outputs": [
        {
          "output_type": "display_data",
          "data": {
            "image/png": "[encoded data removed]",
            "text/plain": [
              "<Figure size 432x288 with 1 Axes>"
            ]
          },
          "metadata": {
            "needs_background": "light"
          }
        }
      ],
      "source": [
        "df_hist['accuracy'].plot(style='b--', label='Trainning')\n",
        "df_hist['val_accuracy'].plot(label='Test')\n",
        "\n",
        "plt.title('Model Accuracy')\n",
        "plt.ylabel('accuracy')\n",
        "plt.xlabel('epoch')\n",
        "plt.legend()\n",
        "plt.show()"
      ]
    },
    {
      "cell_type": "code",
      "execution_count": 32,
      "id": "7f5d357c-9a48-4d30-8ca3-ad1ad9a8d875",
      "metadata": {
        "colab": {
          "base_uri": "https://localhost:8080/"
        },
        "id": "7f5d357c-9a48-4d30-8ca3-ad1ad9a8d875",
        "outputId": "35ba15cc-44d0-441e-e4be-6c1745eb607a"
      },
      "outputs": [
        {
          "output_type": "stream",
          "name": "stderr",
          "text": [
            "/usr/local/lib/python3.7/dist-packages/sklearn/base.py:451: UserWarning: X does not have valid feature names, but StandardScaler was fitted with feature names\n",
            "  \"X does not have valid feature names, but\"\n"
          ]
        },
        {
          "output_type": "execute_result",
          "data": {
            "text/plain": [
              "array([[ 2.73435494,  2.16998818,  1.21745768,  1.18556721],\n",
              "       [ 1.15917263,  1.24920112, -0.14664056,  0.26414192]])"
            ]
          },
          "metadata": {},
          "execution_count": 32
        }
      ],
      "source": [
        "X_new = [[8.1, 4.0, 5.9, 2.1], # \n",
        "         [6.8, 3.6, 3.5, 1.4]] # \n",
        "\n",
        "# X_new = [[8.1, 4.0, 5.9, 2.1]]\n",
        "\n",
        "X_new_sc = sc.transform(X_new)\n",
        "X_new_sc"
      ]
    },
    {
      "cell_type": "code",
      "execution_count": 33,
      "id": "e42b1cb6-67b5-4313-88d7-19d6087210fa",
      "metadata": {
        "colab": {
          "base_uri": "https://localhost:8080/"
        },
        "id": "e42b1cb6-67b5-4313-88d7-19d6087210fa",
        "outputId": "07299414-a042-439e-e59a-4baa063c09b4"
      },
      "outputs": [
        {
          "output_type": "stream",
          "name": "stdout",
          "text": [
            "['virginica' 'versicolor']\n"
          ]
        }
      ],
      "source": [
        "y_pred_pr = model.predict(X_new_sc)\n",
        "y_pred = np.argmax(y_pred_pr, axis=1)\n",
        "print(class_names[y_pred])"
      ]
    },
    {
      "cell_type": "markdown",
      "id": "ff220d0a-d36c-46c3-8620-f2578c70d00d",
      "metadata": {
        "id": "ff220d0a-d36c-46c3-8620-f2578c70d00d"
      },
      "source": [
        "## Boundary"
      ]
    },
    {
      "cell_type": "code",
      "execution_count": 34,
      "id": "8afbaa8b-aabc-4e89-ba0e-71d91e40cad7",
      "metadata": {
        "id": "8afbaa8b-aabc-4e89-ba0e-71d91e40cad7"
      },
      "outputs": [],
      "source": [
        "class Onehot2Int(object):\n",
        "    def __init__(self, model):\n",
        "        self.model = model\n",
        "\n",
        "    def predict(self, X):\n",
        "        y_pred = self.model.predict(X)\n",
        "        return np.argmax(y_pred, axis=1)\n",
        "    \n",
        "model_no_ohe = Onehot2Int(model)    "
      ]
    },
    {
      "cell_type": "code",
      "execution_count": 35,
      "id": "4b270a6d-c12e-4c15-9cae-01c520d69728",
      "metadata": {
        "colab": {
          "base_uri": "https://localhost:8080/",
          "height": 351
        },
        "id": "4b270a6d-c12e-4c15-9cae-01c520d69728",
        "outputId": "4d8944d0-31a1-4c1e-fa0d-eed4297401af"
      },
      "outputs": [
        {
          "output_type": "stream",
          "name": "stderr",
          "text": [
            "/usr/local/lib/python3.7/dist-packages/mlxtend/plotting/decision_regions.py:244: MatplotlibDeprecationWarning: Passing unsupported keyword arguments to axis() will raise a TypeError in 3.3.\n",
            "  ax.axis(xmin=xx.min(), xmax=xx.max(), y_min=yy.min(), y_max=yy.max())\n"
          ]
        },
        {
          "output_type": "display_data",
          "data": {
            "image/png": "[encoded data removed]",
            "text/plain": [
              "<Figure size 432x288 with 1 Axes>"
            ]
          },
          "metadata": {
            "needs_background": "light"
          }
        }
      ],
      "source": [
        "from mlxtend.plotting import plot_decision_regions\n",
        "\n",
        "value = 0\n",
        "width = 5.5\n",
        "\n",
        "ax = plot_decision_regions(X_test, np.array(y_test),\n",
        "\n",
        "                    clf=model_no_ohe, feature_index=[2, 3],  \n",
        "                    filler_feature_values={0: value, 1: value},\n",
        "                    filler_feature_ranges={0: width, 1: width},\n",
        "                    legend=2)\n",
        "\n",
        "handles, labels = ax.get_legend_handles_labels()\n",
        "ax.legend(handles, class_names, framealpha=0.5)\n",
        "\n",
        "plt.title('Iris (Hidden={})'.format(hidden_node))\n",
        "# plt.xticks([])\n",
        "plt.yticks([])\n",
        "plt.xlabel('petal_length')\n",
        "plt.ylabel('petal_width')\n",
        "\n",
        "plt.scatter(X_new_sc[:,2][y_pred==0], X_new_sc[:,3][y_pred==0], marker='s', s=180, c='b')\n",
        "plt.scatter(X_new_sc[:,2][y_pred==1], X_new_sc[:,3][y_pred==1], marker='^', s=230, c='#7d4128') # \n",
        "plt.scatter(X_new_sc[:,2][y_pred==2], X_new_sc[:,3][y_pred==2], marker='o', s=150, c='b')\n",
        "plt.show()"
      ]
    },
    {
      "cell_type": "code",
      "execution_count": 35,
      "id": "62c1f60c-9645-4dfa-b49e-6626c6f67f39",
      "metadata": {
        "id": "62c1f60c-9645-4dfa-b49e-6626c6f67f39"
      },
      "outputs": [],
      "source": [
        ""
      ]
    }
  ],
  "metadata": {
    "kernelspec": {
      "display_name": "Python 3 (ipykernel)",
      "language": "python",
      "name": "python3"
    },
    "language_info": {
      "codemirror_mode": {
        "name": "ipython",
        "version": 3
      },
      "file_extension": ".py",
      "mimetype": "text/x-python",
      "name": "python",
      "nbconvert_exporter": "python",
      "pygments_lexer": "ipython3",
      "version": "3.9.7"
    },
    "colab": {
      "name": "Iris.ipynb",
      "provenance": [],
      "collapsed_sections": [],
      "include_colab_link": true
    }
  },
  "nbformat": 4,
  "nbformat_minor": 5
}